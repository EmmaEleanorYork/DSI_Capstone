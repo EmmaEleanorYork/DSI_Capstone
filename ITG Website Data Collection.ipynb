{
 "cells": [
  {
   "cell_type": "code",
   "execution_count": 45,
   "metadata": {},
   "outputs": [],
   "source": [
    "import requests\n",
    "import pandas as pd\n",
    "import numpy as np\n",
    "import time\n",
    "import json\n",
    "from bs4 import BeautifulSoup\n",
    "from sklearn.neighbors import KNeighborsClassifier\n",
    "import matplotlib.pyplot as plt"
   ]
  },
  {
   "cell_type": "code",
   "execution_count": 2,
   "metadata": {},
   "outputs": [],
   "source": [
    "URL_jan = \"https://intothegloss.com/2018/01/best-beauty-products-2018/\"\n",
    "\n",
    "URL_feb = \"https://intothegloss.com/2018/02/best-winter-serum-moisturizer-2018/\"\n",
    "\n",
    "URL_march = \"https://intothegloss.com/2018/03/best-transitional-skincare-spring-2018/\"\n",
    "\n",
    "URL_april = \"https://intothegloss.com/2018/05/best-spring-fragrance-bronzer-toner-lipstick-2018/\"\n",
    "\n",
    "URL_may = \"https://intothegloss.com/2018/05/best-summer-skincare-2018/\"\n",
    "\n",
    "URL_june = 'https://intothegloss.com/2018/06/best-summer-cleansing-products-2018/'\n",
    "\n",
    "URL_july = \"https://intothegloss.com/2018/07/best-travel-beauty-products-2018/\"\n",
    "\n",
    "URL_aug = \"https://intothegloss.com/2018/08/end-of-summer-skincare-beauty/\"\n",
    "\n",
    "URL_sept = \"https://intothegloss.com/2018/09/best-fall-beauty-products-2018/\""
   ]
  },
  {
   "cell_type": "markdown",
   "metadata": {},
   "source": [
    "## I know this is bad coding, I am going to make it look nicer"
   ]
  },
  {
   "cell_type": "code",
   "execution_count": 3,
   "metadata": {},
   "outputs": [],
   "source": [
    "res_jan = requests.get(URL_jan, headers = {'User-agent': 'Emma York'})\n",
    "\n",
    "res_feb = requests.get(URL_feb, headers = {'User-agent': 'Emma York'})\n",
    "\n",
    "res_march = requests.get(URL_march, headers = {'User-agent': 'Emma York'})\n",
    "\n",
    "res_april = requests.get(URL_april, headers = {'User-agent': 'Emma York'})\n",
    "\n",
    "res_may = requests.get(URL_may, headers = {'User-agent': 'Emma York'})\n",
    "\n",
    "res_june = requests.get(URL_june, headers = {'User-agent': 'Emma York'})\n",
    "\n",
    "res_july = requests.get(URL_july, headers = {'User-agent': 'Emma York'})\n",
    "\n",
    "res_aug = requests.get(URL_aug, headers = {'User-agent': 'Emma York'})\n",
    "\n",
    "res_sept = requests.get(URL_sept, headers = {'User-agent': 'Emma York'})"
   ]
  },
  {
   "cell_type": "code",
   "execution_count": 4,
   "metadata": {},
   "outputs": [
    {
     "data": {
      "text/plain": [
       "200"
      ]
     },
     "execution_count": 4,
     "metadata": {},
     "output_type": "execute_result"
    }
   ],
   "source": [
    "res_june.status_code "
   ]
  },
  {
   "cell_type": "code",
   "execution_count": 5,
   "metadata": {},
   "outputs": [
    {
     "data": {
      "text/plain": [
       "200"
      ]
     },
     "execution_count": 5,
     "metadata": {},
     "output_type": "execute_result"
    }
   ],
   "source": [
    "res_july.status_code"
   ]
  },
  {
   "cell_type": "code",
   "execution_count": 6,
   "metadata": {},
   "outputs": [
    {
     "data": {
      "text/plain": [
       "200"
      ]
     },
     "execution_count": 6,
     "metadata": {},
     "output_type": "execute_result"
    }
   ],
   "source": [
    "res_aug.status_code"
   ]
  },
  {
   "cell_type": "code",
   "execution_count": 7,
   "metadata": {},
   "outputs": [
    {
     "data": {
      "text/plain": [
       "200"
      ]
     },
     "execution_count": 7,
     "metadata": {},
     "output_type": "execute_result"
    }
   ],
   "source": [
    "res_sept.status_code"
   ]
  },
  {
   "cell_type": "code",
   "execution_count": 8,
   "metadata": {},
   "outputs": [],
   "source": [
    "html_jan = res_jan.text\n",
    "\n",
    "html_feb = res_feb.text\n",
    "\n",
    "html_march = res_march.text\n",
    "\n",
    "html_april = res_april.text\n",
    "\n",
    "html_may = res_may.text\n",
    "\n",
    "html_june = res_june.text\n",
    "\n",
    "html_july = res_july.text\n",
    "\n",
    "html_aug = res_aug.text\n",
    "\n",
    "html_sept = res_sept.text"
   ]
  },
  {
   "cell_type": "code",
   "execution_count": 9,
   "metadata": {},
   "outputs": [],
   "source": [
    "soup_jan = BeautifulSoup(html_jan, 'lxml')\n",
    "soup_feb = BeautifulSoup(html_feb, 'lxml')\n",
    "soup_march = BeautifulSoup(html_march, 'lxml')\n",
    "soup_april = BeautifulSoup(html_april, 'lxml')\n",
    "soup_may = BeautifulSoup(html_may, 'lxml')\n",
    "soup_june = BeautifulSoup(html_june, 'lxml')\n",
    "soup_july = BeautifulSoup(html_july, 'lxml')\n",
    "soup_aug = BeautifulSoup(html_aug, 'lxml')\n",
    "soup_sept = BeautifulSoup(html_sept, 'lxml')\n",
    "\n",
    "#soup_aug.html_aug.title, soup_sept.html_sept.title, soup_july.html_july.title"
   ]
  },
  {
   "cell_type": "code",
   "execution_count": 10,
   "metadata": {},
   "outputs": [
    {
     "data": {
      "text/plain": [
       "<!DOCTYPE html>\n",
       "<html><head><meta charset=\"utf-8\"/><meta content=\"IE=edge\" http-equiv=\"X-UA-Compatible\"/>\n",
       "<script type=\"text/javascript\">window.NREUM||(NREUM={});NREUM.info={\"beacon\":\"bam.nr-data.net\",\"errorBeacon\":\"bam.nr-data.net\",\"licenseKey\":\"257b400c9b\",\"applicationID\":\"14372868\",\"transactionName\":\"IQkKR0cOCltREBtEChESFxxGCQlA\",\"queueTime\":0,\"applicationTime\":42,\"agent\":\"\"}</script>\n",
       "<script type=\"text/javascript\">(window.NREUM||(NREUM={})).loader_config={xpid:\"VQYBWVJRCBABUFJVBQkBXg==\"};window.NREUM||(NREUM={}),__nr_require=function(t,n,e){function r(e){if(!n[e]){var o=n[e]={exports:{}};t[e][0].call(o.exports,function(n){var o=t[e][1][n];return r(o||n)},o,o.exports)}return n[e].exports}if(\"function\"==typeof __nr_require)return __nr_require;for(var o=0;o<e.length;o++)r(e[o]);return r}({1:[function(t,n,e){function r(t){try{s.console&&console.log(t)}catch(n){}}var o,i=t(\"ee\"),a=t(16),s={};try{o=localStorage.getItem(\"__nr_flags\").split(\",\"),console&&\"function\"==typeof console.log&&(s.console=!0,o.indexOf(\"dev\")!==-1&&(s.dev=!0),o.indexOf(\"nr_dev\")!==-1&&(s.nrDev=!0))}catch(c){}s.nrDev&&i.on(\"internal-error\",function(t){r(t.stack)}),s.dev&&i.on(\"fn-err\",function(t,n,e){r(e.stack)}),s.dev&&(r(\"NR AGENT IN DEVELOPMENT MODE\"),r(\"flags: \"+a(s,function(t,n){return t}).join(\", \")))},{}],2:[function(t,n,e){function r(t,n,e,r,s){try{p?p-=1:o(s||new UncaughtException(t,n,e),!0)}catch(f){try{i(\"ierr\",[f,c.now(),!0])}catch(d){}}return\"function\"==typeof u&&u.apply(this,a(arguments))}function UncaughtException(t,n,e){this.message=t||\"Uncaught error with no additional information\",this.sourceURL=n,this.line=e}function o(t,n){var e=n?null:c.now();i(\"err\",[t,e])}var i=t(\"handle\"),a=t(17),s=t(\"ee\"),c=t(\"loader\"),f=t(\"gos\"),u=window.onerror,d=!1,l=\"nr@seenError\",p=0;c.features.err=!0,t(1),window.onerror=r;try{throw new Error}catch(h){\"stack\"in h&&(t(8),t(7),\"addEventListener\"in window&&t(5),c.xhrWrappable&&t(9),d=!0)}s.on(\"fn-start\",function(t,n,e){d&&(p+=1)}),s.on(\"fn-err\",function(t,n,e){d&&!e[l]&&(f(e,l,function(){return!0}),this.thrown=!0,o(e))}),s.on(\"fn-end\",function(){d&&!this.thrown&&p>0&&(p-=1)}),s.on(\"internal-error\",function(t){i(\"ierr\",[t,c.now(),!0])})},{}],3:[function(t,n,e){t(\"loader\").features.ins=!0},{}],4:[function(t,n,e){function r(t){}if(window.performance&&window.performance.timing&&window.performance.getEntriesByType){var o=t(\"ee\"),i=t(\"handle\"),a=t(8),s=t(7),c=\"learResourceTimings\",f=\"addEventListener\",u=\"resourcetimingbufferfull\",d=\"bstResource\",l=\"resource\",p=\"-start\",h=\"-end\",m=\"fn\"+p,v=\"fn\"+h,w=\"bstTimer\",y=\"pushState\",g=t(\"loader\");g.features.stn=!0,t(6);var b=NREUM.o.EV;o.on(m,function(t,n){var e=t[0];e instanceof b&&(this.bstStart=g.now())}),o.on(v,function(t,n){var e=t[0];e instanceof b&&i(\"bst\",[e,n,this.bstStart,g.now()])}),a.on(m,function(t,n,e){this.bstStart=g.now(),this.bstType=e}),a.on(v,function(t,n){i(w,[n,this.bstStart,g.now(),this.bstType])}),s.on(m,function(){this.bstStart=g.now()}),s.on(v,function(t,n){i(w,[n,this.bstStart,g.now(),\"requestAnimationFrame\"])}),o.on(y+p,function(t){this.time=g.now(),this.startPath=location.pathname+location.hash}),o.on(y+h,function(t){i(\"bstHist\",[location.pathname+location.hash,this.startPath,this.time])}),f in window.performance&&(window.performance[\"c\"+c]?window.performance[f](u,function(t){i(d,[window.performance.getEntriesByType(l)]),window.performance[\"c\"+c]()},!1):window.performance[f](\"webkit\"+u,function(t){i(d,[window.performance.getEntriesByType(l)]),window.performance[\"webkitC\"+c]()},!1)),document[f](\"scroll\",r,{passive:!0}),document[f](\"keypress\",r,!1),document[f](\"click\",r,!1)}},{}],5:[function(t,n,e){function r(t){for(var n=t;n&&!n.hasOwnProperty(u);)n=Object.getPrototypeOf(n);n&&o(n)}function o(t){s.inPlace(t,[u,d],\"-\",i)}function i(t,n){return t[1]}var a=t(\"ee\").get(\"events\"),s=t(19)(a,!0),c=t(\"gos\"),f=XMLHttpRequest,u=\"addEventListener\",d=\"removeEventListener\";n.exports=a,\"getPrototypeOf\"in Object?(r(document),r(window),r(f.prototype)):f.prototype.hasOwnProperty(u)&&(o(window),o(f.prototype)),a.on(u+\"-start\",function(t,n){var e=t[1],r=c(e,\"nr@wrapped\",function(){function t(){if(\"function\"==typeof e.handleEvent)return e.handleEvent.apply(e,arguments)}var n={object:t,\"function\":e}[typeof e];return n?s(n,\"fn-\",null,n.name||\"anonymous\"):e});this.wrapped=t[1]=r}),a.on(d+\"-start\",function(t){t[1]=this.wrapped||t[1]})},{}],6:[function(t,n,e){var r=t(\"ee\").get(\"history\"),o=t(19)(r);n.exports=r,o.inPlace(window.history,[\"pushState\",\"replaceState\"],\"-\")},{}],7:[function(t,n,e){var r=t(\"ee\").get(\"raf\"),o=t(19)(r),i=\"equestAnimationFrame\";n.exports=r,o.inPlace(window,[\"r\"+i,\"mozR\"+i,\"webkitR\"+i,\"msR\"+i],\"raf-\"),r.on(\"raf-start\",function(t){t[0]=o(t[0],\"fn-\")})},{}],8:[function(t,n,e){function r(t,n,e){t[0]=a(t[0],\"fn-\",null,e)}function o(t,n,e){this.method=e,this.timerDuration=isNaN(t[1])?0:+t[1],t[0]=a(t[0],\"fn-\",this,e)}var i=t(\"ee\").get(\"timer\"),a=t(19)(i),s=\"setTimeout\",c=\"setInterval\",f=\"clearTimeout\",u=\"-start\",d=\"-\";n.exports=i,a.inPlace(window,[s,\"setImmediate\"],s+d),a.inPlace(window,[c],c+d),a.inPlace(window,[f,\"clearImmediate\"],f+d),i.on(c+u,r),i.on(s+u,o)},{}],9:[function(t,n,e){function r(t,n){d.inPlace(n,[\"onreadystatechange\"],\"fn-\",s)}function o(){var t=this,n=u.context(t);t.readyState>3&&!n.resolved&&(n.resolved=!0,u.emit(\"xhr-resolved\",[],t)),d.inPlace(t,y,\"fn-\",s)}function i(t){g.push(t),h&&(x?x.then(a):v?v(a):(E=-E,O.data=E))}function a(){for(var t=0;t<g.length;t++)r([],g[t]);g.length&&(g=[])}function s(t,n){return n}function c(t,n){for(var e in t)n[e]=t[e];return n}t(5);var f=t(\"ee\"),u=f.get(\"xhr\"),d=t(19)(u),l=NREUM.o,p=l.XHR,h=l.MO,m=l.PR,v=l.SI,w=\"readystatechange\",y=[\"onload\",\"onerror\",\"onabort\",\"onloadstart\",\"onloadend\",\"onprogress\",\"ontimeout\"],g=[];n.exports=u;var b=window.XMLHttpRequest=function(t){var n=new p(t);try{u.emit(\"new-xhr\",[n],n),n.addEventListener(w,o,!1)}catch(e){try{u.emit(\"internal-error\",[e])}catch(r){}}return n};if(c(p,b),b.prototype=p.prototype,d.inPlace(b.prototype,[\"open\",\"send\"],\"-xhr-\",s),u.on(\"send-xhr-start\",function(t,n){r(t,n),i(n)}),u.on(\"open-xhr-start\",r),h){var x=m&&m.resolve();if(!v&&!m){var E=1,O=document.createTextNode(E);new h(a).observe(O,{characterData:!0})}}else f.on(\"fn-end\",function(t){t[0]&&t[0].type===w||a()})},{}],10:[function(t,n,e){function r(t){var n=this.params,e=this.metrics;if(!this.ended){this.ended=!0;for(var r=0;r<d;r++)t.removeEventListener(u[r],this.listener,!1);if(!n.aborted){if(e.duration=a.now()-this.startTime,4===t.readyState){n.status=t.status;var i=o(t,this.lastSize);if(i&&(e.rxSize=i),this.sameOrigin){var c=t.getResponseHeader(\"X-NewRelic-App-Data\");c&&(n.cat=c.split(\", \").pop())}}else n.status=0;e.cbTime=this.cbTime,f.emit(\"xhr-done\",[t],t),s(\"xhr\",[n,e,this.startTime])}}}function o(t,n){var e=t.responseType;if(\"json\"===e&&null!==n)return n;var r=\"arraybuffer\"===e||\"blob\"===e||\"json\"===e?t.response:t.responseText;return h(r)}function i(t,n){var e=c(n),r=t.params;r.host=e.hostname+\":\"+e.port,r.pathname=e.pathname,t.sameOrigin=e.sameOrigin}var a=t(\"loader\");if(a.xhrWrappable){var s=t(\"handle\"),c=t(11),f=t(\"ee\"),u=[\"load\",\"error\",\"abort\",\"timeout\"],d=u.length,l=t(\"id\"),p=t(14),h=t(13),m=window.XMLHttpRequest;a.features.xhr=!0,t(9),f.on(\"new-xhr\",function(t){var n=this;n.totalCbs=0,n.called=0,n.cbTime=0,n.end=r,n.ended=!1,n.xhrGuids={},n.lastSize=null,p&&(p>34||p<10)||window.opera||t.addEventListener(\"progress\",function(t){n.lastSize=t.loaded},!1)}),f.on(\"open-xhr-start\",function(t){this.params={method:t[0]},i(this,t[1]),this.metrics={}}),f.on(\"open-xhr-end\",function(t,n){\"loader_config\"in NREUM&&\"xpid\"in NREUM.loader_config&&this.sameOrigin&&n.setRequestHeader(\"X-NewRelic-ID\",NREUM.loader_config.xpid)}),f.on(\"send-xhr-start\",function(t,n){var e=this.metrics,r=t[0],o=this;if(e&&r){var i=h(r);i&&(e.txSize=i)}this.startTime=a.now(),this.listener=function(t){try{\"abort\"===t.type&&(o.params.aborted=!0),(\"load\"!==t.type||o.called===o.totalCbs&&(o.onloadCalled||\"function\"!=typeof n.onload))&&o.end(n)}catch(e){try{f.emit(\"internal-error\",[e])}catch(r){}}};for(var s=0;s<d;s++)n.addEventListener(u[s],this.listener,!1)}),f.on(\"xhr-cb-time\",function(t,n,e){this.cbTime+=t,n?this.onloadCalled=!0:this.called+=1,this.called!==this.totalCbs||!this.onloadCalled&&\"function\"==typeof e.onload||this.end(e)}),f.on(\"xhr-load-added\",function(t,n){var e=\"\"+l(t)+!!n;this.xhrGuids&&!this.xhrGuids[e]&&(this.xhrGuids[e]=!0,this.totalCbs+=1)}),f.on(\"xhr-load-removed\",function(t,n){var e=\"\"+l(t)+!!n;this.xhrGuids&&this.xhrGuids[e]&&(delete this.xhrGuids[e],this.totalCbs-=1)}),f.on(\"addEventListener-end\",function(t,n){n instanceof m&&\"load\"===t[0]&&f.emit(\"xhr-load-added\",[t[1],t[2]],n)}),f.on(\"removeEventListener-end\",function(t,n){n instanceof m&&\"load\"===t[0]&&f.emit(\"xhr-load-removed\",[t[1],t[2]],n)}),f.on(\"fn-start\",function(t,n,e){n instanceof m&&(\"onload\"===e&&(this.onload=!0),(\"load\"===(t[0]&&t[0].type)||this.onload)&&(this.xhrCbStart=a.now()))}),f.on(\"fn-end\",function(t,n){this.xhrCbStart&&f.emit(\"xhr-cb-time\",[a.now()-this.xhrCbStart,this.onload,n],n)})}},{}],11:[function(t,n,e){n.exports=function(t){var n=document.createElement(\"a\"),e=window.location,r={};n.href=t,r.port=n.port;var o=n.href.split(\"://\");!r.port&&o[1]&&(r.port=o[1].split(\"/\")[0].split(\"@\").pop().split(\":\")[1]),r.port&&\"0\"!==r.port||(r.port=\"https\"===o[0]?\"443\":\"80\"),r.hostname=n.hostname||e.hostname,r.pathname=n.pathname,r.protocol=o[0],\"/\"!==r.pathname.charAt(0)&&(r.pathname=\"/\"+r.pathname);var i=!n.protocol||\":\"===n.protocol||n.protocol===e.protocol,a=n.hostname===document.domain&&n.port===e.port;return r.sameOrigin=i&&(!n.hostname||a),r}},{}],12:[function(t,n,e){function r(){}function o(t,n,e){return function(){return i(t,[f.now()].concat(s(arguments)),n?null:this,e),n?void 0:this}}var i=t(\"handle\"),a=t(16),s=t(17),c=t(\"ee\").get(\"tracer\"),f=t(\"loader\"),u=NREUM;\"undefined\"==typeof window.newrelic&&(newrelic=u);var d=[\"setPageViewName\",\"setCustomAttribute\",\"setErrorHandler\",\"finished\",\"addToTrace\",\"inlineHit\",\"addRelease\"],l=\"api-\",p=l+\"ixn-\";a(d,function(t,n){u[n]=o(l+n,!0,\"api\")}),u.addPageAction=o(l+\"addPageAction\",!0),u.setCurrentRouteName=o(l+\"routeName\",!0),n.exports=newrelic,u.interaction=function(){return(new r).get()};var h=r.prototype={createTracer:function(t,n){var e={},r=this,o=\"function\"==typeof n;return i(p+\"tracer\",[f.now(),t,e],r),function(){if(c.emit((o?\"\":\"no-\")+\"fn-start\",[f.now(),r,o],e),o)try{return n.apply(this,arguments)}catch(t){throw c.emit(\"fn-err\",[arguments,this,t],e),t}finally{c.emit(\"fn-end\",[f.now()],e)}}}};a(\"actionText,setName,setAttribute,save,ignore,onEnd,getContext,end,get\".split(\",\"),function(t,n){h[n]=o(p+n)}),newrelic.noticeError=function(t){\"string\"==typeof t&&(t=new Error(t)),i(\"err\",[t,f.now()])}},{}],13:[function(t,n,e){n.exports=function(t){if(\"string\"==typeof t&&t.length)return t.length;if(\"object\"==typeof t){if(\"undefined\"!=typeof ArrayBuffer&&t instanceof ArrayBuffer&&t.byteLength)return t.byteLength;if(\"undefined\"!=typeof Blob&&t instanceof Blob&&t.size)return t.size;if(!(\"undefined\"!=typeof FormData&&t instanceof FormData))try{return JSON.stringify(t).length}catch(n){return}}}},{}],14:[function(t,n,e){var r=0,o=navigator.userAgent.match(/Firefox[\\/\\s](\\d+\\.\\d+)/);o&&(r=+o[1]),n.exports=r},{}],15:[function(t,n,e){function r(t,n){if(!o)return!1;if(t!==o)return!1;if(!n)return!0;if(!i)return!1;for(var e=i.split(\".\"),r=n.split(\".\"),a=0;a<r.length;a++)if(r[a]!==e[a])return!1;return!0}var o=null,i=null,a=/Version\\/(\\S+)\\s+Safari/;if(navigator.userAgent){var s=navigator.userAgent,c=s.match(a);c&&s.indexOf(\"Chrome\")===-1&&s.indexOf(\"Chromium\")===-1&&(o=\"Safari\",i=c[1])}n.exports={agent:o,version:i,match:r}},{}],16:[function(t,n,e){function r(t,n){var e=[],r=\"\",i=0;for(r in t)o.call(t,r)&&(e[i]=n(r,t[r]),i+=1);return e}var o=Object.prototype.hasOwnProperty;n.exports=r},{}],17:[function(t,n,e){function r(t,n,e){n||(n=0),\"undefined\"==typeof e&&(e=t?t.length:0);for(var r=-1,o=e-n||0,i=Array(o<0?0:o);++r<o;)i[r]=t[n+r];return i}n.exports=r},{}],18:[function(t,n,e){n.exports={exists:\"undefined\"!=typeof window.performance&&window.performance.timing&&\"undefined\"!=typeof window.performance.timing.navigationStart}},{}],19:[function(t,n,e){function r(t){return!(t&&t instanceof Function&&t.apply&&!t[a])}var o=t(\"ee\"),i=t(17),a=\"nr@original\",s=Object.prototype.hasOwnProperty,c=!1;n.exports=function(t,n){function e(t,n,e,o){function nrWrapper(){var r,a,s,c;try{a=this,r=i(arguments),s=\"function\"==typeof e?e(r,a):e||{}}catch(f){l([f,\"\",[r,a,o],s])}u(n+\"start\",[r,a,o],s);try{return c=t.apply(a,r)}catch(d){throw u(n+\"err\",[r,a,d],s),d}finally{u(n+\"end\",[r,a,c],s)}}return r(t)?t:(n||(n=\"\"),nrWrapper[a]=t,d(t,nrWrapper),nrWrapper)}function f(t,n,o,i){o||(o=\"\");var a,s,c,f=\"-\"===o.charAt(0);for(c=0;c<n.length;c++)s=n[c],a=t[s],r(a)||(t[s]=e(a,f?s+o:o,i,s))}function u(e,r,o){if(!c||n){var i=c;c=!0;try{t.emit(e,r,o,n)}catch(a){l([a,e,r,o])}c=i}}function d(t,n){if(Object.defineProperty&&Object.keys)try{var e=Object.keys(t);return e.forEach(function(e){Object.defineProperty(n,e,{get:function(){return t[e]},set:function(n){return t[e]=n,n}})}),n}catch(r){l([r])}for(var o in t)s.call(t,o)&&(n[o]=t[o]);return n}function l(n){try{t.emit(\"internal-error\",n)}catch(e){}}return t||(t=o),e.inPlace=f,e.flag=a,e}},{}],ee:[function(t,n,e){function r(){}function o(t){function n(t){return t&&t instanceof r?t:t?c(t,s,i):i()}function e(e,r,o,i){if(!l.aborted||i){t&&t(e,r,o);for(var a=n(o),s=m(e),c=s.length,f=0;f<c;f++)s[f].apply(a,r);var d=u[g[e]];return d&&d.push([b,e,r,a]),a}}function p(t,n){y[t]=m(t).concat(n)}function h(t,n){var e=y[t];if(e)for(var r=0;r<e.length;r++)e[r]===n&&e.splice(r,1)}function m(t){return y[t]||[]}function v(t){return d[t]=d[t]||o(e)}function w(t,n){f(t,function(t,e){n=n||\"feature\",g[e]=n,n in u||(u[n]=[])})}var y={},g={},b={on:p,addEventListener:p,removeEventListener:h,emit:e,get:v,listeners:m,context:n,buffer:w,abort:a,aborted:!1};return b}function i(){return new r}function a(){(u.api||u.feature)&&(l.aborted=!0,u=l.backlog={})}var s=\"nr@context\",c=t(\"gos\"),f=t(16),u={},d={},l=n.exports=o();l.backlog=u},{}],gos:[function(t,n,e){function r(t,n,e){if(o.call(t,n))return t[n];var r=e();if(Object.defineProperty&&Object.keys)try{return Object.defineProperty(t,n,{value:r,writable:!0,enumerable:!1}),r}catch(i){}return t[n]=r,r}var o=Object.prototype.hasOwnProperty;n.exports=r},{}],handle:[function(t,n,e){function r(t,n,e,r){o.buffer([t],r),o.emit(t,n,e)}var o=t(\"ee\").get(\"handle\");n.exports=r,r.ee=o},{}],id:[function(t,n,e){function r(t){var n=typeof t;return!t||\"object\"!==n&&\"function\"!==n?-1:t===window?0:a(t,i,function(){return o++})}var o=1,i=\"nr@id\",a=t(\"gos\");n.exports=r},{}],loader:[function(t,n,e){function r(){if(!E++){var t=x.info=NREUM.info,n=p.getElementsByTagName(\"script\")[0];if(setTimeout(u.abort,3e4),!(t&&t.licenseKey&&t.applicationID&&n))return u.abort();f(g,function(n,e){t[n]||(t[n]=e)}),c(\"mark\",[\"onload\",a()+x.offset],null,\"api\");var e=p.createElement(\"script\");e.src=\"https://\"+t.agent,n.parentNode.insertBefore(e,n)}}function o(){\"complete\"===p.readyState&&i()}function i(){c(\"mark\",[\"domContent\",a()+x.offset],null,\"api\")}function a(){return O.exists&&performance.now?Math.round(performance.now()):(s=Math.max((new Date).getTime(),s))-x.offset}var s=(new Date).getTime(),c=t(\"handle\"),f=t(16),u=t(\"ee\"),d=t(15),l=window,p=l.document,h=\"addEventListener\",m=\"attachEvent\",v=l.XMLHttpRequest,w=v&&v.prototype;NREUM.o={ST:setTimeout,SI:l.setImmediate,CT:clearTimeout,XHR:v,REQ:l.Request,EV:l.Event,PR:l.Promise,MO:l.MutationObserver};var y=\"\"+location,g={beacon:\"bam.nr-data.net\",errorBeacon:\"bam.nr-data.net\",agent:\"js-agent.newrelic.com/nr-1099.min.js\"},b=v&&w&&w[h]&&!/CriOS/.test(navigator.userAgent),x=n.exports={offset:s,now:a,origin:y,features:{},xhrWrappable:b,userAgent:d};t(12),p[h]?(p[h](\"DOMContentLoaded\",i,!1),l[h](\"load\",r,!1)):(p[m](\"onreadystatechange\",o),l[m](\"onload\",r)),c(\"mark\",[\"firstbyte\",s],null,\"api\");var E=0,O=t(18)},{}]},{},[\"loader\",2,10,4,3]);</script><meta content=\"width=device-width, initial-scale=1, maximum-scale=1, minimum-scale=1, user-scalable=no\" name=\"viewport\"/><link href=\"https://assets2.intothegloss.com/assets/misc/favicon-34e5c9db4b95c307337b1fca10553b0b.png\" rel=\"shortcut icon\"/><link href=\"https://assets2.intothegloss.com/assets/misc/touch-33044b47b595da7070e7c04767bbd444.png\" rel=\"apple-touch-icon-precomposed\"/><title>The Products ITG Editors Loved This Month | Into The Gloss</title>\n",
       "<meta content=\"A smelly apartment fix, a sparkly gelée, an exciting new serum and more.\" name=\"description\"/>\n",
       "<meta content=\"best end summer skincare makeup\" name=\"keywords\"/>\n",
       "<link href=\"https://intothegloss.com/2018/08/end-of-summer-skincare-beauty\" rel=\"canonical\"/>\n",
       "<meta content=\"https://intothegloss.com/2018/08/end-of-summer-skincare-beauty\" property=\"og:url\"/>\n",
       "<meta content=\"website\" property=\"og:type\"/>\n",
       "<meta content=\"Into The Gloss\" property=\"og:site_name\"/>\n",
       "<meta content=\"The Products ITG Editors Loved This Month\" property=\"og:title\"/>\n",
       "<meta content=\"https://images.ctfassets.net/g8qtv9gzg47d/1gwFi5g8KiaOQ08Ykoe4u8/fe2ede576a9663f0c30217dfcfa12737/aug-monthly-favs-9.JPG\" property=\"og:image\"/>\n",
       "<meta content=\"A smelly apartment fix, a sparkly gelée, an exciting new serum and more.\" property=\"og:description\"/>\n",
       "<meta content=\"en_US\" property=\"og:locale\"/>\n",
       "<meta content=\"144783762227800\" property=\"fb:pages\"/>\n",
       "<meta content=\"sensitive skin, Skincare, Wellness, Makeup, fragrance, Monthly Favorites\" property=\"article:tag\"/>\n",
       "<meta content=\"Skincare\" property=\"article:section\"/>\n",
       "<meta content=\"2018-08-30T20:24:41+00:00\" property=\"article:published_time\"/>\n",
       "<meta content=\"2018-08-30T20:24:41+00:00\" property=\"article:updated_time\"/>\n",
       "<meta content=\"@IntoTheGloss\" name=\"twitter:site\"/>\n",
       "<meta content=\"The Products ITG Editors Loved This Month\" name=\"twitter:title\"/>\n",
       "<meta content=\"summary_large_image\" name=\"twitter:card\"/>\n",
       "<meta content=\"A smelly apartment fix, a sparkly gelée, an exciting new serum and more.\" name=\"twitter:description\"/>\n",
       "<meta content=\"https://images.ctfassets.net/g8qtv9gzg47d/1gwFi5g8KiaOQ08Ykoe4u8/fe2ede576a9663f0c30217dfcfa12737/aug-monthly-favs-9.JPG\" name=\"twitter:image\"/>\n",
       "<meta content=\"https://intothegloss.com/2018/08/end-of-summer-skincare-beauty\" name=\"twitter:url\"/>\n",
       "<meta content=\"43f74e3478e24408aaa036b7746bb6b3\" name=\"p:domain_verify\"/>\n",
       "<meta content=\"https://images.ctfassets.net/g8qtv9gzg47d/1gwFi5g8KiaOQ08Ykoe4u8/fe2ede576a9663f0c30217dfcfa12737/aug-monthly-favs-9.JPG\" name=\"webfeeds:cover\"/>\n",
       "<meta content=\"sensitive skin, Skincare, Wellness, Makeup, fragrance, Monthly Favorites\" name=\"news_keywords\"/>\n",
       "<meta content=\"https://images.ctfassets.net/g8qtv9gzg47d/1gwFi5g8KiaOQ08Ykoe4u8/fe2ede576a9663f0c30217dfcfa12737/aug-monthly-favs-9.JPG\" name=\"image\"/>\n",
       "<meta content=\"Into The Gloss, Inc. 2016; All Rights Reserved.\" name=\"copyright\"/><script src=\"https://use.typekit.net/bif3mmm.js\"></script><script>try{Typekit.load({ async: true });}catch(e){}</script><script>!function(){var analytics=window.analytics=window.analytics||[];if(!analytics.initialize)if(analytics.invoked)window.console&&console.error&&console.error(\"Segment snippet included twice.\");else{analytics.invoked=!0;analytics.methods=[\"trackSubmit\",\"trackClick\",\"trackLink\",\"trackForm\",\"pageview\",\"identify\",\"reset\",\"group\",\"track\",\"ready\",\"alias\",\"page\",\"once\",\"off\",\"on\"];analytics.factory=function(t){return function(){var e=Array.prototype.slice.call(arguments);e.unshift(t);analytics.push(e);return analytics}};for(var t=0;t<analytics.methods.length;t++){var e=analytics.methods[t];analytics[e]=analytics.factory(e)}analytics.load=function(t){var e=document.createElement(\"script\");e.type=\"text/javascript\";e.async=!0;e.src=(\"https:\"===document.location.protocol?\"https://\":\"http://\")+\"cdn.segment.com/analytics.js/v1/\"+t+\"/analytics.min.js\";var n=document.getElementsByTagName(\"script\")[0];n.parentNode.insertBefore(e,n)};analytics.SNIPPET_VERSION=\"3.2.5\";\n",
       "  analytics.load(\"naytIRrduBscFjvn1Zx1iXmPpzRiOMBv\");\n",
       "  }}();\n",
       "\n",
       "(function() {\n",
       "  var wf = document.createElement('script');\n",
       "  wf.src = ('https:' == document.location.protocol ? 'https' : 'http') +\n",
       "  '://ajax.googleapis.com/ajax/libs/webfont/1/webfont.js';\n",
       "  wf.type = 'text/javascript';\n",
       "  wf.async = 'true';\n",
       "  var s = document.getElementsByTagName('script')[0];\n",
       "  s.parentNode.insertBefore(wf, s);\n",
       "})();</script><script src=\"https://assets2.intothegloss.com/assets/application-cec71d6c7a7f12aa1a0462ac0811e18b.js\"></script><link href=\"https://assets2.intothegloss.com/assets/application-570b60e457327b93d8abc19e7b11216f.css\" media=\"all\" rel=\"stylesheet\"/><link href=\"https://intothegloss.com/feed/\" rel=\"alternate\" title=\"RSS\" type=\"application/rss+xml\"/><meta content=\"authenticity_token\" name=\"csrf-param\"/>\n",
       "<meta content=\"fH8uKnf+etyoRxcmHn2Rd+ergp0j0N9IlpcRC7H6Y9ae51yOdW6k93KqlFYzxjtRx3UnmYb99R4ekuP8zwIzSQ==\" name=\"csrf-token\"/></head><body class=\"s-show\" data-action=\"show\" data-controller=\"posts\" ng-controller=\"GlobalCtrl\"><div class=\"l-wrap--full l-wrap--full--extended\"><div class=\"m-ribbon\" ng-ribbon=\"false\"><div class=\"m-ribbon--shopGlossier\" style=\"color: #ffffff\"><a href=\"https://www.glossier.com/products/?utm_medium=itg&amp;utm_source=itg&amp;utm_campaign=shop&amp;utm_content=evergreenlink\" target=\"_blank\">SHOP GLOSSIER</a><div class=\"m-ribbon-sticker\" style=\"background-image:url('//images.ctfassets.net/g8qtv9gzg47d/17RsqH3rsyqK02SAQKO4Oi/c3249954a955194059f02ddc19a8af47/Cherry-ShopGlossier-04.svg')\"></div></div></div><div class=\"m-mobile-overlay\"></div><header class=\"m-header js-header\" ng-header=\"\"><div class=\"m-header-common l-container l-container--full\"><div class=\"m-header-common--left\"> </div><div class=\"m-header-common--center\"><div class=\"m-header-common-logo\"><div class=\"m-header-common-mission-trigger-overlay m-header-common-mission-trigger\"></div><img alt=\"Glossier g black\" class=\"m-header-common-logo-img\" src=\"https://assets2.intothegloss.com/assets/ui/glossier_g_black-02d1cd4e31ee816374efb43cb495c316.svg\"/><div class=\"m-header-common-mission m-header-common-mission-trigger\"><div class=\"m-header-common-mission-container l-container\"><h2 class=\"m-header-common-mission-title\">Hi! We're Glossier.</h2><div class=\"m-header-common-mission-body\">We test every beauty product under the sun, interview our icons, and are in constant conversation with Into The Gloss readers, our customers, and community. Everything we’ve learned through years of recommendations from the coolest girls on the planet is distilled into Glossier products: the new beauty essentials.</div><div class=\"m-header-common-mission--mobile\"><a class=\"m-cta m-cta--black m-cta--uppercase m-cta--bold\" href=\"https://www.glossier.com\">Shop Glossier</a><div class=\"m-header-common-mission-close fa fa-angle-up\"></div></div></div></div></div></div><div class=\"m-header-common--right\"><nav class=\"m-header-nav-account m-header-nav\" ng-cloak=\"\"><ul class=\"m-header-nav-list--separated\"><li class=\"m-header-nav-list--account\" ng-click=\"ctrl.signinModal()\" ng-hide=\"ctrl.isLogged()\">Log In</li><li class=\"m-header-nav-list--account\" ng-show=\"ctrl.isLogged()\"><a href=\"/account\">Account</a></li><li><span>|</span></li><li><a href=\"https://www.glossier.com\">Shopping Bag ({{(ctrl.user.last_order &amp;&amp; !ctrl.user.last_order.completed_at ? ctrl.user.last_order.total_quantity : 0)}})</a></li></ul></nav></div></div><div class=\"m-header-specific l-container l-container--full\"><nav class=\"m-header-nav\"><ng-search-form placeholder=\"Search ITG's Archive...\" submit=\"Press enter\" type=\"desktop\"></ng-search-form><ul class=\"m-header-nav--main\"><li><a href=\"/sections/interviews/\" ng-track='[\"click\", \"structure\", \"navigation item\", \"/sections/interviews/\"]'>Interviews</a></li><li><a href=\"/sections/makeup/\" ng-track='[\"click\", \"structure\", \"navigation item\", \"/sections/makeup/\"]'>Makeup</a></li><li><a href=\"/sections/skincare/\" ng-track='[\"click\", \"structure\", \"navigation item\", \"/sections/skincare/\"]'>Skincare</a></li><li><a href=\"/sections/hair/\" ng-track='[\"click\", \"structure\", \"navigation item\", \"/sections/hair/\"]'>Hair</a></li><li class=\"m-header-menuIcon m-sprites--magnifying\" ng-click=\"searchToggle()\" ng-track=\"['click', 'structure', 'navigation item', '/search']\"><div href=\"#\" title=\"Search\"></div></li></ul></nav><div class=\"m-header-logo\"><a href=\"/\" title=\"Into The Gloss\"></a></div><div class=\"m-header-search--mobile\"><ng-search-form placeholder=\"Search ITG's Archive...\" submit=\"Submit\" type=\"mobile\"></ng-search-form><div class=\"m-header-menuIcon m-sprites--magnifying\" ng-click=\"searchToggle('mobile')\" ng-track=\"['click', 'structure', 'navigation item', '/search']\"><div href=\"#\" title=\"Search\"></div></div></div></div></header><div class=\"l-container\" data-sections=\"skincare\" ng-controller=\"SinglePostCtrl\"><div class=\"l-row--smallFull m-visuals--borderBottom s-post-top\"><ul class=\"m-bread\"><li class=\"m-bread-el\"><a href=\"/\" ng-track='[\"click\", \"auto\", \"breadcrumbs link\", nil]'>Home</a></li><li class=\"m-bread-el\"><a href=\"/categories/itg-hearts/\">ITG ♥s</a></li><li class=\"m-bread-el\">Our Favorite Products: August 2018 Edition</li></ul><h1 class=\"c-h1 s-post-title m-visuals--borderTop\">Our Favorite Products: August 2018 Edition</h1></div><div class=\"l-row--shortFull\"><div class=\"l-col--eight\"><div class=\"s-post-hero\"><div class=\"s-post-hero-share\" ng-sticky-element=\"\"><ng-social-share class=\"is-{{placement}}\" ng-class=\"{'is-loaded': isLoaded}\" placement=\"sticky\"><ul class=\"m-share-inner\"><li class=\"m-share-el--fb\"><a ng-click=\"fbShare()\" ng-track=\"['click', 'social', 'share post sticky', 'facebook']\"><i class=\"fa fa-facebook-official\"></i><span>Share</span></a></li><li class=\"m-share-el--twitter\"><a href=\"https://twitter.com/intent/tweet?text=Our Favorite Products: August 2018 Edition&amp;url=https://intothegloss.com/2018/08/end-of-summer-skincare-beauty/&amp;via=intothegloss\" ng-track=\"['click', 'social', 'share post sticky', 'twitter']\" target=\"_blank\"><i class=\"fa fa-twitter\"></i><span>Tweet</span></a></li><li class=\"m-share-el--pin\"><a href=\"https://www.pinterest.com/pin/create/button/?url=https://intothegloss.com/2018/08/end-of-summer-skincare-beauty/&amp;media=//images.ctfassets.net/g8qtv9gzg47d/1gwFi5g8KiaOQ08Ykoe4u8/fe2ede576a9663f0c30217dfcfa12737/aug-monthly-favs-9.JPG?fl=progressive&amp;fm=jpg&amp;q=80&amp;description=Our Favorite Products: August 2018 Edition\" ng-track=\"['click', 'social', 'share post sticky', 'pinterest']\" target=\"_blank\"><i class=\"fa fa-pinterest\"></i><span>Pin</span></a></li><li class=\"m-share-el--copy\" ng-if=\"isCopiable()\"><a data-clipboard-text=\"https://intothegloss.com/2018/08/end-of-summer-skincare-beauty/\" ng-track=\"['click', 'social', 'copy url sticky', 'clipboard']\" ngclipboard=\"\"><i class=\"fa fa-clipboard\"></i><span>Copy</span></a></li><li class=\"m-share-el--save\"><ng-save post=\"5k1pbQ5uIoqcEkGwUQKmoG\"></ng-save></li></ul></ng-social-share></div><div class=\"s-post-slider l-row--small\"><ng-slick-slider class=\"m-slider m-slider--post\" ng-arrows=\"true\" ng-auto=\"false\" ng-full=\"true\" ng-id=\"5k1pbQ5uIoqcEkGwUQKmoG\" ng-lazy=\"true\" ng-nav=\"true\" ng-nav-length=\"1\" ng-type=\"post\"><div class=\"m-slider-container\" ng-class=\"{'has-multiple': hasMultiple}\"><div class=\"m-slider-el\"><img data-lazy=\"//images.ctfassets.net/g8qtv9gzg47d/1gwFi5g8KiaOQ08Ykoe4u8/fe2ede576a9663f0c30217dfcfa12737/aug-monthly-favs-9.JPG?fl=progressive&amp;fm=jpg&amp;q=80\" ng-click=\"goToNext()\" ng-track='[\"click\", \"auto\", \"slideshow image\", \"aug-monthly-favs-9\"]' src=\"\"/><div class=\"m-slider-el-captionBox\"><div class=\"m-slider-el-captionBoxCount\">1</div><div class=\"m-slider-el-captionBoxText\"></div><div class=\"m-slider-el-captionFull\"><a class=\"fa fa-search-plus\" ng-click=\"openFull()\"></a></div><div class=\"m-slider-el-captionBoxPin\"><a class=\"fa fa-pinterest-p\" href=\"https://www.pinterest.com/pin/create/button/?url=https://intothegloss.com/2018/08/end-of-summer-skincare-beauty/&amp;media=//images.ctfassets.net/g8qtv9gzg47d/1gwFi5g8KiaOQ08Ykoe4u8/fe2ede576a9663f0c30217dfcfa12737/aug-monthly-favs-9.JPG&amp;description=\" ng-track='[\"click\", \"social\", \"slideshow pinterest\", \"aug-monthly-favs-9\"]' target=\"_blank\"></a></div></div></div></div><div class=\"m-slider-full\" ng-class=\"{'has-multiple': hasMultiple}\"><a class=\"m-sprites--closeBig m-slider-full-close\" ng-click=\"closeFull()\"></a><div class=\"m-slider-el--full\"><div class=\"m-slider-el-inner\"><div class=\"m-slider-el-inner-image\"><img data-lazy=\"//images.ctfassets.net/g8qtv9gzg47d/1gwFi5g8KiaOQ08Ykoe4u8/fe2ede576a9663f0c30217dfcfa12737/aug-monthly-favs-9.JPG?fl=progressive&amp;fm=jpg&amp;q=80\" ng-click=\"goToNext()\" ng-track='[\"click\", \"auto\", \"zoomed image\", \"aug-monthly-favs-9\"]' src=\"\"/><div class=\"m-slider-el-share\"><div class=\"m-slider-el-share-item m-share-el--fb\"><a href=\"http://www.facebook.com/dialog/share?app_id=163663950348583&amp;display=popup&amp;href=https%3A%2F%2Fintothegloss.com%2F2018%2F08%2Fend-of-summer-skincare-beauty%2F&amp;redirect_uri=https%3A%2F%2Fintothegloss.com%2F2018%2F08%2Fend-of-summer-skincare-beauty%2F&amp;picture=https%3A%2F%2Fimages.ctfassets.net%2Fg8qtv9gzg47d%2F1gwFi5g8KiaOQ08Ykoe4u8%2Ffe2ede576a9663f0c30217dfcfa12737%2Faug-monthly-favs-9.JPG\" target=\"_blank\"><i class=\"fa fa-facebook-official\"></i></a></div><div class=\"m-slider-el-share-item m-share-el--pin\"><a href=\"https://www.pinterest.com/pin/create/button/?url=https%3A%2F%2Fintothegloss.com%2F2018%2F08%2Fend-of-summer-skincare-beauty%2F&amp;media=%2F%2Fimages.ctfassets.net%2Fg8qtv9gzg47d%2F1gwFi5g8KiaOQ08Ykoe4u8%2Ffe2ede576a9663f0c30217dfcfa12737%2Faug-monthly-favs-9.JPG&amp;description=\" target=\"_blank\"><i class=\"fa fa-pinterest\"></i></a></div></div></div></div></div></div></ng-slick-slider></div></div><div class=\"l-row--full m-visuals--borderTop\"><div class=\"s-post-author\"><div class=\"s-post-authorIcon\">\n",
       "<a href=\"/author/admin/\">\n",
       "<img alt=\"\" src=\"//images.ctfassets.net/g8qtv9gzg47d/image_author_1/36437d214c3594ac64c686b7c5e3e3c1/Author_-_ITG_?f=face&amp;fit=thumb&amp;fl=progressive&amp;fm=jpg&amp;h=125&amp;q=80&amp;w=125\"/>\n",
       "</a></div>\n",
       "<div class=\"s-post-authorByline\">\n",
       "<span class=\"s-post-authorBy\">\n",
       "    by\n",
       "  </span>\n",
       "<span class=\"s-post-authorName\">\n",
       "<a href=\"/author/admin/\">\n",
       "      Into The Gloss \n",
       "</a> </span>\n",
       "</div>\n",
       "</div><div class=\"l-col--eleven s-post-content\"><div class=\"l-col--twelve\"><div class=\"s-post-text\"><p><em>Welcome to <a href=\"https://intothegloss.com/search/?q=favorite+products\" rel=\"nofollow\" target=\"_blank\">Our Favorite Products</a>, a monthly feature in which ITG's editors discuss our favorite products. They're the best things we've tried all month long, reviewed, photographed, and anthropomorphized before we have the opportunity to get sick of them and move on to something new. This time around, we’re just trying to keep our skin glowy and not irritated before Labor Day. Difficult, but not impossible. Join our fruitful journey below.</em></p>\n",
       "<h2><a href=\"https://shop-links.co/1648892483624482659\" rel=\"nofollow\" target=\"_blank\">Environ Sun Care Sunscreen SPF 25</a></h2>\n",
       "<p><img alt=\"aug-monthly-favs-3\" src=\"//images.ctfassets.net/g8qtv9gzg47d/1IQilQafaMiauogI0iyuOe/97d6af1d8cbd3da2fd22317172ad2988/aug-monthly-favs-3.JPG\"/></p>\n",
       "<p>I’ve been breaking out. It started in May or June. At first it was just along my jawline, but then the breakouts started to spread up to the middle of my face and as soon as one pimple would fade away, a new one would sprout up. This past month as I was traveling it got worse than it’s ever been. So, the second I got back to NYC I went to see Danuta Mieloch, Her Royal Highness of <a href=\"http://www.rescuespa.net/\" rel=\"nofollow\" target=\"_blank\">Rescue Spa</a>. She looked at my skin and told me two things: 1) It’s oilier than it used to be—probably seasonal; and 2) My sunscreen might be the root of my breakouts. She gave me this Environ one that’s 8% Titanium Dioxide but is a satisfyingly creamy, lightweight texture that I can wear every day under my makeup, and so far it’s been a success. My breakouts have calmed and my skin looks a lot more matte just wearing it. It works well as a primer and doesn’t sting my eyes when I wash it off at the end of the day. Things are looking up. Danuta also recommended I try a zinc-based sunscreen, since zinc is commonly used as an acne-fighting ingredient. Any recommendations? —Anna Stevenett</p>\n",
       "<h2><a href=\"https://shop-links.co/1648892558044613062\" rel=\"nofollow\" target=\"_blank\">Revlon Glow Gelee in <em>Moon Glow</em></a></h2>\n",
       "<p><img alt=\"aug-monthly-favs-10\" src=\"//images.ctfassets.net/g8qtv9gzg47d/47w1PBiWAgAQMwaQyMSSAA/ad11b5c78f8957d9b5191b65fdbbf843/aug-monthly-favs-10.JPG\"/></p>\n",
       "<p>This is a trinket and a makeup product in one—in the age of minimalism I think it's really refreshing to see a brand like Revlon lean into it's drugstore-ness. I'm like yes, give me that holographic sparkle lid and cartoon shooting star graphic—it's fun. It feels a bit like silly putty—a clear bronze glitter putty, that you can put on your face and your friend's faces, the fun don't stop. This is a good makeup product for me to have around, and talk people into, because unlike my last glitter pot favorite (<a href=\"https://shop-links.co/1648892675025725416\" rel=\"nofollow\" target=\"_blank\">Lemonhead</a>) this is VERY subtle. It's like a slap of a wet sparkle, I could wear it and no one would notice really. You can layer it a bit if you want, but it's nice just as a hint. —Tom Newton</p>\n",
       "<h2><a href=\"https://shop-links.co/1648892740164750026\" rel=\"nofollow\" target=\"_blank\">Diptyque Figuier Scented Oval</a></h2>\n",
       "<p><img alt=\"aug-monthly-favs-4\" src=\"//images.ctfassets.net/g8qtv9gzg47d/A7rNujIeyW4cc2wISogOu/e388c07450d707951bc019cfbb6219e0/aug-monthly-favs-4.JPG\"/></p>\n",
       "<p>I won't get too into it, but I've been arriving home recently to find my apartment smelling like...human. Not bad, per se, but not like a fresh laundry commercial either. I'm happy to blame the weather and the total lack of circulation available to Lower East Side apartments, but placing blame doesn't solve the problem. These scent ovals do, though! I got two—one for my entry way and another for my closet because it's delightful when your clothes smell like fig in the morning. It's not knock-you-over-with-a-set-of-bricks strong, but present enough to make you smile and think of Puglia when you walk in the door. I'm thinking the <a href=\"https://shop-links.co/1648892779188264240\" rel=\"nofollow\" target=\"_blank\">34 fragrance</a> might be a nice change for fall… —Emily Ferber</p>\n",
       "<h2><a href=\"https://shop-links.co/1648892810060141929\" rel=\"nofollow\" target=\"_blank\">Dior Rouge Blush in <em>Actrice</em></a></h2>\n",
       "<p><img alt=\"aug-monthly-favs-7\" src=\"//images.ctfassets.net/g8qtv9gzg47d/1cXIyWDgjKu6OSU008IEO2/d6e1c5abb8c90afc97f8bf9a820260c7/aug-monthly-favs-7.JPG\"/></p>\n",
       "<p>After wearing a bare face for most of the summer, I’ve decided to hop back on the makeup train. First stop is this blush—and let me tell you, it is dreamy. It’s peachy-coraly-orange-y, which is the color family that feels the most like me. I’ve been wearing it for a little over a week now, and it gives off a ‘I just worked out but am magically not sweaty’ flush. I think the secret is in the barely-there shimmer that only appears in the most delicate way, when the light is <em>just</em> right. And can you believe it? I even like the teenie tiny brush that comes in the package. It’s angled and actually picks up pigment. It’s a miracle. —Ashley Weatherford</p>\n",
       "<h2><a href=\"https://shop-links.co/1648892859321719142\" rel=\"nofollow\" target=\"_blank\">Rohto Melano CC</a></h2>\n",
       "<p><img alt=\"aug-monthly-favs-2\" src=\"//images.ctfassets.net/g8qtv9gzg47d/pc2tiXFjjMi6Wo6ciEUUU/620589a919ea8e98a314b3c05098e4ce/aug-monthly-favs-2.JPG\"/></p>\n",
       "<p>When I whined to my new roommate and fellow HQ employee Tiffany about the spots that marked my most recent breakout, she told me to stop picking at my face and to pick this up. I don’t think I’ll be pulling my face out of my magnified mirror anytime soon, but Melano CC is now in my possession and I’m very happy about it! Its consistency reminds me of <a href=\"https://shop-links.co/1648892888304841418\" rel=\"nofollow\" target=\"_blank\">Melanie Simon’s Serum C</a>, wet and slick to the touch and sets to a dry sheen. Tretinoin’s been going to town on my acne, and this serum is a little arm lift, working to un-dull the texture my skin is experiencing. I’m really surprised that the more stubborn marks along my jaw are improving—all in all, really promising. —Utibe Mbagwu</p>\n",
       "<h2><a href=\"https://shop-links.co/1648892921151462300\" rel=\"nofollow\" target=\"_blank\">Bebé Zartrosé Lip Balm</a></h2>\n",
       "<p><img alt=\"aug-monthly-favs-6\" src=\"//images.ctfassets.net/g8qtv9gzg47d/24ByoJHHtaGcmeQkGiC2aO/abe152e7136f37bee39399d2d8ce4641/aug-monthly-favs-6.JPG\"/></p>\n",
       "<p>I love this lip balm because my best friend brought it back to me from Switzerland, the packaging is very cute, it smells like candy and it works. Little pink tint. I wear it every day. That’s all. —AS</p>\n",
       "<h2><a href=\"https://shop-links.co/1648892948547037847\" rel=\"nofollow\" target=\"_blank\">Paula's Choice 10% Azelaic Acid Booster</a></h2>\n",
       "<p><img alt=\"aug-monthly-favs-5\" src=\"//images.ctfassets.net/g8qtv9gzg47d/3LX5sQz11Yawk0YeosA2OA/10cd0a1ed13fcb58ef0cee23c9d505fe/aug-monthly-favs-5.JPG\"/></p>\n",
       "<p>Hello texture! Nice to see you looking smooth again. What a retinol can do for acne, I've found azelaic acid can do for irritated, rosacea-like texture and inflammation. And with none of that pesky purging. You can <a href=\"https://intothegloss.com/2017/07/acid-peels-different-kinds-chemical-exfoliants/\" rel=\"nofollow\" target=\"_blank\">read more about the acid you'd never heard about here</a> (tl;dr it's antibacterial and brightening), but even if you don't, I suggest you buy it. It's my new \"recommend for everything\" ingredient, particularly in this booster tube that plays well with serums and moisturizers alike. I use it in the morning (and sometimes again at night) and have gotten at least two other people to buy it off my recommendation. Are you next? —EF</p>\n",
       "<h2>Regime Des Fleurs Testers from the <a href=\"https://shop-links.co/1648893042630811019\" rel=\"nofollow\" target=\"_blank\">'Personal/Space'</a> + <a href=\"https://shop-links.co/1648893063158897193\" rel=\"nofollow\" target=\"_blank\">'Pour Tous'</a> collections</h2>\n",
       "<p><img alt=\"aug-monthly-favs-11\" src=\"//images.ctfassets.net/g8qtv9gzg47d/dASv8e8AhMKK64a0QCkcS/2ec835a749110aa8eb86d2e740fc9277/aug-monthly-favs-11.JPG\"/></p>\n",
       "<p>I think Regime Des Fluers scents are so, so special. This month they came out with a new group of scents and also a 'sampling program' thing that allows you to buy a set of tester-sized vials and then get what you spent on the vials back if you buy a full-sized bottle. In a perfect world, I would just own full sizes of every single one and they would be in one of my multiple floor-to-ceiling marble bathrooms in my palatial mansion. But this is not how things work and I have too many fragrances sitting on my tiny dresser as it is. So here we are—I have all these tiny vials of each fragrance, and still, after two weeks of shuffling through them, traveling with them, living with them on me, I wouldn't know if I'd be able to pick just one or even two. The Personal/Space scents all have a lightness to them, and the Pour Tous scents are all a bit punchier. Each one is titled in a way that you can build a whole story around why they smell the way they do—I won't rob you of that creative exercise but I do suggest that you try them all out. —TN</p>\n",
       "<h2><a href=\"https://shop-links.co/1648893112459395778\" rel=\"nofollow\" target=\"_blank\">Laura Mercier Secret Concealer</a></h2>\n",
       "<p><img alt=\"aug-monthly-favs-8\" src=\"//images.ctfassets.net/g8qtv9gzg47d/207mGzs5VyEGIYo2yqW2YK/f3e4583cf7bb10096871007bd4966a84/aug-monthly-favs-8.JPG\"/></p>\n",
       "<p>There are three, maybe four good concealers around, and my face is happy to tell you this is one of them. Not to be confused with its celebrity cousin, <a href=\"https://shop-links.co/1648893142220491756\" rel=\"nofollow\" target=\"_blank\">Secret Camouflage</a>, Secret Concealer is much creamier, and better to use around my eyes. I’m a big fan of the color play that’s happening in the shades. Depending on your skin tone, they are mixed with yellow, red, or orange undertones, which offset any undereye darkness. I have to mention that because it’s important! Too many concealers in these makeup streets bypass undertone considerations, which is why a lot of them are totally disappointing. ANYWAY, I don’t even need a tool to apply this—I just tap it on my my finger and get going. Easy-peasy and actually effective. My kind of product. —AW</p>\n",
       "<h2><a href=\"https://shop-links.co/1648893168804186407\" rel=\"nofollow\" target=\"_blank\">Ritual Essential Vitamins</a></h2>\n",
       "<p><img alt=\"aug-monthly-favs-1\" src=\"//images.ctfassets.net/g8qtv9gzg47d/3wW7RrilAACuOiaOwUe6KI/3f788c031640dc2472b042f3b81807ff/aug-monthly-favs-1.JPG\"/></p>\n",
       "<p>I know I’m supposed be taking vitamins every day. I’m very certain I’m deficient in vitamin D, a smidge of iron, and several “daily recommended” amounts of calcium. But do I ever eat fibrous things or go outside at a decent time to see if the sun is feeling generous? Not as much as should be. So this month, I kept these vitamins at my desk, always in my view so I could pop two a day, as the bottle says. I’m halfway through the bottle and I feel <em>alert</em>. I start the day bright-eyed and I love that I don’t leave the office feeling totally spent, without a single sip of coffee at that. And I can’t forget the mint-scented party in my mouth each time I take it. Nice touch. —UM</p>\n",
       "<p><em>Photographed by Tom Newton.</em></p>\n",
       "</div><div class=\"l-row--full\" ng-if=\"isSweepstakes()\"><div class=\"m-newsletter is-post\"><div class=\"m-newsletter-title\">Enter here to win!</div><div class=\"m-newsletter-subcontent c-text--preview c-text--italic\">You know the drill—enter your email for a chance to win free skincare and makeup.</div><ng-newsletter-form campaign=\"sweepstakes-217\" layout=\"post\" permanent=\"true\" placement=\"post\"></ng-newsletter-form></div></div><ng-social-share class=\"is-{{placement}}\" ng-class=\"{'is-loaded': isLoaded}\" placement=\"bottom\"><ul class=\"m-share-inner\"><li class=\"m-share-el--fb\"><a ng-click=\"fbShare()\" ng-track=\"['click', 'social', 'share post bottom', 'facebook']\"><i class=\"fa fa-facebook-official\"></i><span>Share</span></a></li><li class=\"m-share-el--twitter\"><a href=\"https://twitter.com/intent/tweet?text=Our Favorite Products: August 2018 Edition&amp;url=https://intothegloss.com/2018/08/end-of-summer-skincare-beauty/&amp;via=intothegloss\" ng-track=\"['click', 'social', 'share post bottom', 'twitter']\" target=\"_blank\"><i class=\"fa fa-twitter\"></i><span>Tweet</span></a></li><li class=\"m-share-el--pin\"><a href=\"https://www.pinterest.com/pin/create/button/?url=https://intothegloss.com/2018/08/end-of-summer-skincare-beauty/&amp;media=//images.ctfassets.net/g8qtv9gzg47d/1gwFi5g8KiaOQ08Ykoe4u8/fe2ede576a9663f0c30217dfcfa12737/aug-monthly-favs-9.JPG?fl=progressive&amp;fm=jpg&amp;q=80&amp;description=Our Favorite Products: August 2018 Edition\" ng-track=\"['click', 'social', 'share post bottom', 'pinterest']\" target=\"_blank\"><i class=\"fa fa-pinterest\"></i><span>Pin</span></a></li><li class=\"m-share-el--copy\" ng-if=\"isCopiable()\"><a data-clipboard-text=\"https://intothegloss.com/2018/08/end-of-summer-skincare-beauty/\" ng-track=\"['click', 'social', 'copy url bottom', 'clipboard']\" ngclipboard=\"\"><i class=\"fa fa-clipboard\"></i><span>Copy</span></a></li><li class=\"m-share-el--save\"><ng-save post=\"5k1pbQ5uIoqcEkGwUQKmoG\"></ng-save></li></ul></ng-social-share><div class=\"l-row--full\" ng-if=\"!isSweepstakes\"><div class=\"m-newsletter is-post\"><div class=\"m-newsletter-title\">Like what you see? Sign up for our newsletter</div><ng-newsletter-form layout=\"post\" permanent=\"true\" placement=\"post\"></ng-newsletter-form></div></div><div class=\"s-post-tags\"><ul class=\"s-post-meta-list\">\n",
       "<li class=\"more\">More: \n",
       "\t</li><li><a href=\"/tags/sensitive-skin/\">sensitive skin</a></li><li><a href=\"/tags/skincare/\">Skincare</a></li><li><a href=\"/tags/wellness/\">Wellness</a></li><li><a href=\"/tags/makeup/\">Makeup</a></li><li><a href=\"/tags/fragrance/\">fragrance</a></li><li><a href=\"/tags/monthly-favorites/\">Monthly Favorites</a></li>\n",
       "</ul>\n",
       "</div><div class=\"l-row--shortFull m-visuals--borderBottom s-post-disqus\"><ng-disqus-thread enabled=\"true\" identifier=\"5k1pbQ5uIoqcEkGwUQKmoG\" url=\"https://intothegloss.com/2018/08/end-of-summer-skincare-beauty/\"></ng-disqus-thread></div></div></div></div></div><div class=\"l-col--four\" ng-sticky-element=\"\"><aside class=\"m-sidebar\"><div class=\"m-sidebar-list m-visuals--shadeTopLeft\"><div class=\"m-sidebar-listTitle\"><span class=\"m-sidebar-listTitleType\">DON'T MISS</span><span class=\"m-sidebar-listTitleName\">Most Popular</span></div><a href=\"/2018/06/moisturizing-mistakes/\" ng-track='[\"click\", \"auto\", \"sidebar list article\", \"moisturizing-mistakes\"]'><div class=\"m-sidebar-listItem\"><div class=\"l-col--three\"><div class=\"m-img-lazy\"><img class=\"m-img\" data-src=\"//images.ctfassets.net/g8qtv9gzg47d/6dL16HR9C0QMWuoGQmim0U/a008306ba6f28ac8b8606674643f0768/moisturizing-1.JPG?f=face&amp;fit=thumb&amp;fl=progressive&amp;fm=jpg&amp;h=55&amp;q=80&amp;w=55\" data-src-retina=\"//images.ctfassets.net/g8qtv9gzg47d/6dL16HR9C0QMWuoGQmim0U/a008306ba6f28ac8b8606674643f0768/moisturizing-1.JPG?f=face&amp;fit=thumb&amp;fl=progressive&amp;fm=jpg&amp;h=110&amp;q=80&amp;w=110\" ng-img-lazy=\"\" src=\"//images.ctfassets.net/g8qtv9gzg47d/6dL16HR9C0QMWuoGQmim0U/a008306ba6f28ac8b8606674643f0768/moisturizing-1.JPG?f=face&amp;fit=thumb&amp;fl=progressive&amp;fm=jpg&amp;h=55&amp;q=1&amp;w=55\"/></div></div><div class=\"l-col--nine\"><div class=\"m-sidebar-listItemCategory\">Advice</div><div class=\"m-sidebar-listItemTitle\">Am I...Moisturizing Wrong?</div></div></div></a><a href=\"/2018/07/how-to-wear-makeup-in-hot-weather/\" ng-track='[\"click\", \"auto\", \"sidebar list article\", \"how-to-wear-makeup-in-hot-weather\"]'><div class=\"m-sidebar-listItem\"><div class=\"l-col--three\"><div class=\"m-img-lazy\"><img alt=\"benjamin-puckey-kristine-froseth-70s-beauty-4\" class=\"m-img\" data-src=\"//images.ctfassets.net/g8qtv9gzg47d/image_post_70827/71ba0fffcea0e78346eb3a014e62edba/Slider_1_-_Benjamin_Puckey_s_Take_On_The__70s?f=face&amp;fit=thumb&amp;fl=progressive&amp;fm=jpg&amp;h=55&amp;q=80&amp;w=55\" data-src-retina=\"//images.ctfassets.net/g8qtv9gzg47d/image_post_70827/71ba0fffcea0e78346eb3a014e62edba/Slider_1_-_Benjamin_Puckey_s_Take_On_The__70s?f=face&amp;fit=thumb&amp;fl=progressive&amp;fm=jpg&amp;h=110&amp;q=80&amp;w=110\" ng-img-lazy=\"\" src=\"//images.ctfassets.net/g8qtv9gzg47d/image_post_70827/71ba0fffcea0e78346eb3a014e62edba/Slider_1_-_Benjamin_Puckey_s_Take_On_The__70s?f=face&amp;fit=thumb&amp;fl=progressive&amp;fm=jpg&amp;h=55&amp;q=1&amp;w=55\"/></div></div><div class=\"l-col--nine\"><div class=\"m-sidebar-listItemCategory\">Word of Mouth</div><div class=\"m-sidebar-listItemTitle\">How To Do Your Makeup In The Heat</div></div></div></a><a href=\"/2018/06/summer-survival-kit/\" ng-track='[\"click\", \"auto\", \"sidebar list article\", \"summer-survival-kit\"]'><div class=\"m-sidebar-listItem\"><div class=\"l-col--three\"><div class=\"m-img-lazy\"><img class=\"m-img\" data-src=\"//images.ctfassets.net/g8qtv9gzg47d/26THtp9Vx6s4kcUYCCeQ8s/d2d1820444ef17be42342affd6049f06/la-piscine-summer-1.jpg?f=face&amp;fit=thumb&amp;fl=progressive&amp;fm=jpg&amp;h=55&amp;q=80&amp;w=55\" data-src-retina=\"//images.ctfassets.net/g8qtv9gzg47d/26THtp9Vx6s4kcUYCCeQ8s/d2d1820444ef17be42342affd6049f06/la-piscine-summer-1.jpg?f=face&amp;fit=thumb&amp;fl=progressive&amp;fm=jpg&amp;h=110&amp;q=80&amp;w=110\" ng-img-lazy=\"\" src=\"//images.ctfassets.net/g8qtv9gzg47d/26THtp9Vx6s4kcUYCCeQ8s/d2d1820444ef17be42342affd6049f06/la-piscine-summer-1.jpg?f=face&amp;fit=thumb&amp;fl=progressive&amp;fm=jpg&amp;h=55&amp;q=1&amp;w=55\"/></div></div><div class=\"l-col--nine\"><div class=\"m-sidebar-listItemCategory\">Five Cool Things</div><div class=\"m-sidebar-listItemTitle\">A Few More Things You Need To Survive Summer</div></div></div></a><a href=\"/2018/06/how-to-get-rid-of-acne-scars/\" ng-track='[\"click\", \"auto\", \"sidebar list article\", \"how-to-get-rid-of-acne-scars\"]'><div class=\"m-sidebar-listItem\"><div class=\"l-col--three\"><div class=\"m-img-lazy\"><img class=\"m-img\" data-src=\"//images.ctfassets.net/g8qtv9gzg47d/guWk08tuF2go6MA8wcqgk/34ba52f4cdca7706008eeaff7d4cd8cc/scars.jpg?f=face&amp;fit=thumb&amp;fl=progressive&amp;fm=jpg&amp;h=55&amp;q=80&amp;w=55\" data-src-retina=\"//images.ctfassets.net/g8qtv9gzg47d/guWk08tuF2go6MA8wcqgk/34ba52f4cdca7706008eeaff7d4cd8cc/scars.jpg?f=face&amp;fit=thumb&amp;fl=progressive&amp;fm=jpg&amp;h=110&amp;q=80&amp;w=110\" ng-img-lazy=\"\" src=\"//images.ctfassets.net/g8qtv9gzg47d/guWk08tuF2go6MA8wcqgk/34ba52f4cdca7706008eeaff7d4cd8cc/scars.jpg?f=face&amp;fit=thumb&amp;fl=progressive&amp;fm=jpg&amp;h=55&amp;q=1&amp;w=55\"/></div></div><div class=\"l-col--nine\"><div class=\"m-sidebar-listItemCategory\">Guide</div><div class=\"m-sidebar-listItemTitle\">How To Get Rid Of Acne Scars</div></div></div></a><a href=\"/2017/08/best-self-tanner-for-fair-skin-2017/\" ng-track='[\"click\", \"auto\", \"sidebar list article\", \"best-self-tanner-for-fair-skin-2017\"]'><div class=\"m-sidebar-listItem\"><div class=\"l-col--three\"><div class=\"m-img-lazy\"><img class=\"m-img\" data-src=\"//images.ctfassets.net/g8qtv9gzg47d/4aj5TYsbLyC8S2AKqeeeKw/7a8254d770fd353f6beabecfadc5ab20/kelly-self-tan-starters.jpg?f=face&amp;fit=thumb&amp;fl=progressive&amp;fm=jpg&amp;h=55&amp;q=80&amp;w=55\" data-src-retina=\"//images.ctfassets.net/g8qtv9gzg47d/4aj5TYsbLyC8S2AKqeeeKw/7a8254d770fd353f6beabecfadc5ab20/kelly-self-tan-starters.jpg?f=face&amp;fit=thumb&amp;fl=progressive&amp;fm=jpg&amp;h=110&amp;q=80&amp;w=110\" ng-img-lazy=\"\" src=\"//images.ctfassets.net/g8qtv9gzg47d/4aj5TYsbLyC8S2AKqeeeKw/7a8254d770fd353f6beabecfadc5ab20/kelly-self-tan-starters.jpg?f=face&amp;fit=thumb&amp;fl=progressive&amp;fm=jpg&amp;h=55&amp;q=1&amp;w=55\"/></div></div><div class=\"l-col--nine\"><div class=\"m-sidebar-listItemCategory\">The Review</div><div class=\"m-sidebar-listItemTitle\">A Beginner's Guide To Finding The Perfect Self-Tanner</div></div></div></a><a href=\"/2018/06/how-much-sunscreen-do-i-need/\" ng-track='[\"click\", \"auto\", \"sidebar list article\", \"how-much-sunscreen-do-i-need\"]'><div class=\"m-sidebar-listItem\"><div class=\"l-col--three\"><div class=\"m-img-lazy\"><img class=\"m-img\" data-src=\"//images.ctfassets.net/g8qtv9gzg47d/7DtkU0h7OM6GWky8AMuuyk/f2e57d61749108027cc49a2ea1fddc70/spf-1.jpg?f=face&amp;fit=thumb&amp;fl=progressive&amp;fm=jpg&amp;h=55&amp;q=80&amp;w=55\" data-src-retina=\"//images.ctfassets.net/g8qtv9gzg47d/7DtkU0h7OM6GWky8AMuuyk/f2e57d61749108027cc49a2ea1fddc70/spf-1.jpg?f=face&amp;fit=thumb&amp;fl=progressive&amp;fm=jpg&amp;h=110&amp;q=80&amp;w=110\" ng-img-lazy=\"\" src=\"//images.ctfassets.net/g8qtv9gzg47d/7DtkU0h7OM6GWky8AMuuyk/f2e57d61749108027cc49a2ea1fddc70/spf-1.jpg?f=face&amp;fit=thumb&amp;fl=progressive&amp;fm=jpg&amp;h=55&amp;q=1&amp;w=55\"/></div></div><div class=\"l-col--nine\"><div class=\"m-sidebar-listItemCategory\">As Told To ITG</div><div class=\"m-sidebar-listItemTitle\">5 Cardinal Rules Of SPF</div></div></div></a></div><div class=\"m-newsletter is-sidebar\"><div class=\"m-newsletter-title\">Sign up for email updates (including Into The Gloss stories and event invites, plus Glossier launches and product info). Unsubscribe anytime.</div><ng-newsletter-form layout=\"sidebar\" placement=\"sidebar\"></ng-newsletter-form></div></aside></div></div></div><footer class=\"footer\" ng-footer=\"\"><ul class=\"footer-mobile js-footer-mobile\"><li><a href=\"/sections/interviews/\" ng-track='[\"click\", \"structure\", \"navigation item\", \"/sections/interviews/\"]'><span class=\"translation_missing\" title=\"translation missing: en.partials.footer.navigation.interviews\">Interviews</span></a></li><li><a href=\"/sections/makeup/\" ng-track='[\"click\", \"structure\", \"navigation item\", \"/sections/makeup/\"]'><span class=\"translation_missing\" title=\"translation missing: en.partials.footer.navigation.sub_links.makeup\">Makeup</span></a></li><li><a href=\"/sections/skincare/\" ng-track='[\"click\", \"structure\", \"navigation item\", \"/sections/skincare/\"]'><span class=\"translation_missing\" title=\"translation missing: en.partials.footer.navigation.sub_links.skincare\">Skincare</span></a></li><li ng-click=\"ctrl.signinModal()\" ng-cloak=\"\" ng-hide=\"ctrl.isLogged()\">Log In</li><li ng-cloak=\"\" ng-show=\"ctrl.isLogged()\"><a href=\"/account\">Account</a></li></ul><div class=\"l-row--shortFull\"><div class=\"l-col--three footer-logo\"><a href=\"/\"></a></div><div class=\"l-col--six footer-links\"><ul><li><a href=\"/pages/about/\" ng-track='[\"click\", \"structure\", \"footer item\", \"/pages/about/\"]'>About</a></li><li><a href=\"https://www.glossier.com/careers\" ng-track='[\"click\", \"structure\", \"footer item\", \"https://www.glossier.com/careers\"]' target=\"_blank\">Careers</a></li><li><a href=\"https://www.glossier.com/terms-of-use\" ng-track='[\"click\", \"structure\", \"footer item\", \"https://www.glossier.com/terms-of-use\"]' target=\"_blank\">Terms &amp; Privacy</a></li></ul></div><div class=\"l-col--three footer-social\"><ul><li class=\"m-sprites--rss\"><a href=\"https://intothegloss.com/feed\" target=\"_blank\"></a></li><li class=\"m-sprites--fb\"><a href=\"https://facebook.com/intothegloss\" target=\"_blank\"></a></li><li class=\"m-sprites--tw\"><a href=\"https://twitter.com/intothegloss\" target=\"_blank\"></a></li><li class=\"m-sprites--insta\"><a href=\"https://instagram.com/intothegloss\" target=\"_blank\"></a></li><li class=\"m-sprites--tum\"><a href=\"https://intothegloss.tumblr.com/\" target=\"_blank\"></a></li><li class=\"m-sprites--pin\"><a href=\"https://pinterest.com/intothegloss\" target=\"_blank\"></a></li></ul></div></div><div class=\"footer-legal\"><div class=\"l-row--smallFull\"><div class=\"l-col--six footer-legal-contact\"><div class=\"l-row--tinyFull\">Need to reach us? <a href=\"mailto:editorial.info@glossier.com\">editorial.info@glossier.com</a></div>Into The Gloss &amp; The Top Shelf are trademarks of Glossier Inc.</div><div class=\"l-col--six footer-legal-address\"><div class=\"l-row--tinyFull\">Glossier Inc., 123 Lafayette St., New York, NY 10013</div>All materials© Glossier Inc.</div></div></div></footer><div ng-cloak=\"\"><ng-modal layout=\"signin\"><ng-signin><div class=\"m-signin\"><img alt=\"Glossier g black\" class=\"m-signin-logo\" src=\"https://assets2.intothegloss.com/assets/ui/glossier_g_black-02d1cd4e31ee816374efb43cb495c316.svg\"/><div class=\"m-signin-title c-h1\">Log in to ITG</div><p class=\"m-signin-intro\">Use your Glossier account to save articles on Into The Gloss.</p><p class=\"m-signin-more\">More features coming soon!</p><div class=\"m-signin-inputs\"><div class=\"m-signin-buttons\"><a class=\"m-cta m-cta--tall m-cta--pink\" data-no-turbolink=\"true\" href=\"/users/auth/glossier/\">Log in with my existing Glossier account</a></div></div><p class=\"m-signin-switch\"><a class=\"m-cta m-cta--tall m-cta--black\" ng-click=\"ctrl.switch()\">Create new Glossier account</a></p></div></ng-signin></ng-modal><ng-modal layout=\"signup\"><ng-signup><div class=\"m-signup\"><div class=\"m-signup-title c-h1\">Create an Account</div><p class=\"m-signup-intro\">Create a Glossier account to build your Into The Gloss profile and save your favorite stories.</p><form class=\"m-signup-form\" name=\"ctrl.SignupForm\"><input class=\"l-input--full\" ng-model=\"ctrl.signup.email\" placeholder=\"_email address\" required=\"\" type=\"email\"/><span class=\"f-error\" ng-show=\"SignupForm.submitted &amp;&amp; (SignupForm.email.$invalid || SignupForm.email.$error.required)\"><span class=\"translation_missing\" title=\"translation missing: en.general.forms.invalid\">Invalid</span></span><span class=\"f-error--edit\" ng-bind=\"ctrl.signup.errors.email\" ng-show=\"ctrl.signup.errors.email.length &gt; 0\"></span><input class=\"l-input--full\" ng-model=\"ctrl.signup.password\" placeholder=\"_password\" required=\"\" type=\"password\"/><span class=\"f-error\" ng-show=\"SignupForm.submitted &amp;&amp; (SignupForm.password.$error.required)\"><span class=\"translation_missing\" title=\"translation missing: en.general.forms.invalid\">Invalid</span></span><span class=\"f-error\" ng-show=\"SignupForm.password.$error.minlength\">Your password needs to be at least 6 characters long</span><span class=\"f-error--edit\" ng-bind=\"ctrl.signup.errors.password\" ng-show=\"ctrl.signup.errors.password.length &gt; 0\"></span><span class=\"f-error\" ng-bind=\"ctrl.signup.errors.subscribed\" ng-show=\"ctrl.signup.errors.subscribed.length &gt; 0\"></span><button class=\"m-cta m-cta--black m-cta--tall l-input--full\" ng-click=\"ctrl.submit()\" ng-disabled=\"ctrl.isLoading || ctrl.signupForm.email.$invalid\" ng-hide=\"ctrl.isSuccess\">Sign up</button><div class=\"f-success f-message--centered\" ng-show=\"ctrl.isSuccess\">Successfully logged in!</div><p class=\"m-signup-disclaimer\">By signing up, you agree to receive updates and special offers for Into The Gloss's products and services. You may unsubscribe at any time.</p></form><p class=\"m-signup-switch\"><a class=\"c-link--blue c-link--underline\" ng-click=\"ctrl.switch()\">I already have an account</a></p></div></ng-signup></ng-modal><ng-modal ab-dependant=\"true\" layout=\"newsletter\"><div class=\"m-newsletter is-modal is-default\"><h1 class=\"m-newsletter-title\">Let us come to you!</h1><p class=\"m-newsletter-subtitle\">As in, your inbox. Sign up below and we'll bring you the top stories from ITG every week.</p><div class=\"m-newsletter-images\" ng-show=\"$parent.ctrl.AB == 'B'\"><img alt=\"Newsletter 1\" class=\"m-newsletter-image\" src=\"https://assets2.intothegloss.com/assets/placeholder/newsletter-1-9eb6f7df6d7faa93e5da7886693cbe89.jpg\"/><img alt=\"Newsletter 2\" class=\"m-newsletter-image\" src=\"https://assets2.intothegloss.com/assets/placeholder/newsletter-2-f5d28546039b20d2c52914d5c3e3e5de.jpg\"/><img alt=\"Newsletter 3\" class=\"m-newsletter-image\" src=\"https://assets2.intothegloss.com/assets/placeholder/newsletter-3-8c20cc771106cdb6a04b800589f2aaae.jpg\"/><img alt=\"Newsletter 4\" class=\"m-newsletter-image\" src=\"https://assets2.intothegloss.com/assets/placeholder/newsletter-4-84b02bd724c8616375bda4f4d0df0f2b.jpg\"/></div><ng-newsletter-form ab=\"{{$parent.ctrl.AB}}\" layout=\"default\" modal=\"true\" permanent=\"true\" placement=\"inter-{{$parent.ctrl.AB}}\"></ng-newsletter-form></div></ng-modal></div></div><ng-modal layout=\"newsletter-popup\"><div class=\"m-newsletter-popup is-modal is-default\">\n",
       "<div class=\"l-row--shortFull\">\n",
       "<div class=\"m-newsletter-popup-a\">\n",
       "</div>\n",
       "<div class=\"m-newsletter-popup-b\">\n",
       "<h1 class=\"m-newsletter-title\">\n",
       "        Interviews, product reviews, and more\n",
       "      </h1>\n",
       "<p class=\"m-newsletter-subtitle\">\n",
       "        The very best of Into The Gloss, delivered weekly right to your inbox\n",
       "      </p>\n",
       "<ng-newsletter-form campaign=\"newsletter popup\" layout=\"model\" modal=\"true\" permanent=\"false\" placeholder=\"_your email here\" placement=\"modal\">\n",
       "</ng-newsletter-form></div>\n",
       "</div>\n",
       "</div></ng-modal><script>(function(w, d){\n",
       "  var id='embedly-platform', n = 'script';\n",
       " if (!d.getElementById(id)){\n",
       "   w.embedly = w.embedly || function() {(w.embedly.q = w.embedly.q || []).push(arguments);};\n",
       "   var e = d.createElement(n); e.id = id; e.async=1;\n",
       "   e.src = ('https:' === document.location.protocol ? 'https' : 'http') + '://cdn.embedly.com/widgets/platform.js';\n",
       "   var s = d.getElementsByTagName(n)[0];\n",
       "   s.parentNode.insertBefore(e, s);\n",
       " }\n",
       "})(window, document);</script><script>window.fbAsyncInit = function() {\n",
       "  FB.init({\n",
       "    appId      : \"163663950348583\",\n",
       "    xfbml      : true,\n",
       "    version    : 'v2.5'\n",
       "  });\n",
       "};</script><div id=\"fb-root\"></div><script>(function(d, s, id){\n",
       "   var js, fjs = d.getElementsByTagName(s)[0];\n",
       "   if (d.getElementById(id)) {return;}\n",
       "   js = d.createElement(s); js.id = id;\n",
       "   js.src = \"//connect.facebook.net/en_US/sdk.js\";\n",
       "   fjs.parentNode.insertBefore(js, fjs);\n",
       " }(document, 'script', 'facebook-jssdk'));</script><script>(function (account) {\n",
       "  try {\n",
       "      var b = document.createElement(\"script\");\n",
       "      b.type = \"text/javascript\";\n",
       "      b.src = \"//static.bam-x.com/tags/\" + account + \".js\";\n",
       "      var a = document.getElementsByTagName(\"script\")[0];\n",
       "      a.parentNode.insertBefore(b, a);\n",
       "  } catch (e) {}\n",
       "}('intothegloss'));</script><script async=\"\" id=\"dsq-count-scr\" src=\"//intothegloss.disqus.com/count.js\"></script><script src=\"https://assets2.intothegloss.com/assets/modernizr-312cba318b1b8609984a3b5295a7a583.js\"></script><div class=\"m-overlay--mask\"></div><script>angular.module(\"ITG\").constant('Env', {\"env\":\"production\",\"oauth\":{\"glossier\":{\"url\":\"https://www.glossier.com\"}}});</script></body></html>"
      ]
     },
     "execution_count": 10,
     "metadata": {},
     "output_type": "execute_result"
    }
   ],
   "source": [
    "soup_aug.extract()"
   ]
  },
  {
   "cell_type": "code",
   "execution_count": 11,
   "metadata": {},
   "outputs": [],
   "source": [
    "df_ITG = pd.DataFrame()"
   ]
  },
  {
   "cell_type": "code",
   "execution_count": 12,
   "metadata": {},
   "outputs": [
    {
     "name": "stdout",
     "output_type": "stream",
     "text": [
      "Lord Jones All Natural Old Fashioned High CBD Gumdrops\n",
      "Augustinus Bader The Cream\n",
      "L'Oréal Voluminous Feline Mascara\n",
      "Ole Henriksen Banana Bright Eye Crème\n",
      "YSL Tatouage Couture Matte Stain in 7\n",
      "Dr. Jart+ Cicapair Tiger Grass Re.Pair Serum\n",
      "Vernon Francois Braids & Locs Spray\n",
      "Chanel Lip Balm and Powder Duo\n"
     ]
    }
   ],
   "source": [
    "jan_list = soup_jan.find('div', attrs = {'class': 's-post-text'})\n",
    "\n",
    "for list_item in jan_list.find_all('h2'):    # return _all_ matches, <li>\n",
    "    print(list_item.text)"
   ]
  },
  {
   "cell_type": "code",
   "execution_count": 13,
   "metadata": {},
   "outputs": [],
   "source": [
    "l_jan = [list_item.text for list_item in jan_list.find_all('h2')]"
   ]
  },
  {
   "cell_type": "code",
   "execution_count": 48,
   "metadata": {},
   "outputs": [],
   "source": [
    "date_jan = list(np.repeat(1517360461,len(l_jan)))"
   ]
  },
  {
   "cell_type": "code",
   "execution_count": 49,
   "metadata": {},
   "outputs": [
    {
     "data": {
      "text/plain": [
       "[1517360461,\n",
       " 1517360461,\n",
       " 1517360461,\n",
       " 1517360461,\n",
       " 1517360461,\n",
       " 1517360461,\n",
       " 1517360461,\n",
       " 1517360461]"
      ]
     },
     "execution_count": 49,
     "metadata": {},
     "output_type": "execute_result"
    }
   ],
   "source": [
    "date_jan"
   ]
  },
  {
   "cell_type": "code",
   "execution_count": 15,
   "metadata": {},
   "outputs": [
    {
     "name": "stdout",
     "output_type": "stream",
     "text": [
      "GHD Gold Professional Performance Flat Iron\n",
      "Biossance Micronutrient Fine Mist (Out on March 1)\n",
      "Noto Multi Benne Stain in Ono Ono\n",
      "Cane & Austin Retexturize Lotion\n",
      "Sisley Black Rose Cream Mask\n",
      "Biologique Recherche Complexe Iribiol\n",
      "DHC Double Protection Mascara\n",
      "Erborian Yuza Double Lotion\n"
     ]
    }
   ],
   "source": [
    "feb_list = soup_feb.find('div', attrs = {'class': 's-post-text'})\n",
    "\n",
    "for list_item in feb_list.find_all('h2'):    # return _all_ matches, <li>\n",
    "    print(list_item.text)"
   ]
  },
  {
   "cell_type": "code",
   "execution_count": 50,
   "metadata": {},
   "outputs": [],
   "source": [
    "l_feb = [list_item.text for list_item in feb_list.find_all('h2')]\n",
    "date_feb = list(np.repeat(1519779661,len(l_feb)))"
   ]
  },
  {
   "cell_type": "code",
   "execution_count": 17,
   "metadata": {},
   "outputs": [
    {
     "name": "stdout",
     "output_type": "stream",
     "text": [
      "De Mamiel Intense Nurture Antioxidant Elixir\n",
      "Source Naturals Colloidal Silver\n",
      "Joanna Vargas Daily Serum\n",
      "Everything French Pharmacy\n",
      "Tylenol\n",
      "Farmacy Honey Drop Lightweight Moisturizer\n",
      "Koh Gen Do Brightening Moisture Mask\n"
     ]
    }
   ],
   "source": [
    "march_list = soup_march.find('div', attrs = {'class': 's-post-text'})\n",
    "\n",
    "for list_item in march_list.find_all('h2'):    # return _all_ matches, <li>\n",
    "    print(list_item.text)"
   ]
  },
  {
   "cell_type": "code",
   "execution_count": 51,
   "metadata": {},
   "outputs": [],
   "source": [
    "l_march = [list_item.text for list_item in march_list.find_all('h2')]\n",
    "date_march = list(np.repeat(1522458061,len(l_march)))"
   ]
  },
  {
   "cell_type": "code",
   "execution_count": 19,
   "metadata": {},
   "outputs": [
    {
     "name": "stdout",
     "output_type": "stream",
     "text": [
      "Byredo Bibliothèque Room Spray\n",
      "Thayer's Alcohol Free Witch Hazel Toner\n",
      "Sunday Riley Good Genes Lactic Acid Treatment\n",
      "Diptyque Eau Rose Hair Mist\n",
      "Jason Markk Repel Spray\n",
      "Foreo Luna Mini\n",
      "Milani Matte Lipstick + Pat McGrath Gloss\n",
      "Laura Mercier Matte Bronzing Powder\n"
     ]
    }
   ],
   "source": [
    "april_list = soup_april.find('div', attrs = {'class': 's-post-text'})\n",
    "\n",
    "for list_item in april_list.find_all('h2'):    # return _all_ matches, <li>\n",
    "    print(list_item.text)"
   ]
  },
  {
   "cell_type": "code",
   "execution_count": 52,
   "metadata": {},
   "outputs": [],
   "source": [
    "l_april = [list_item.text for list_item in april_list.find_all('h2')]\n",
    "date_april = list(np.repeat(1525050061,len(l_april)))"
   ]
  },
  {
   "cell_type": "code",
   "execution_count": 21,
   "metadata": {},
   "outputs": [
    {
     "name": "stdout",
     "output_type": "stream",
     "text": [
      "Paula's Choice 1% Retinol Booster\n",
      "La Roche Posay Effaclar Medicated Gel Cleanser\n",
      "Dr. Barbara Sturm Baby & Kids Body Cream\n",
      "Supergoop Super Power Sunscreen Mousse\n",
      "Regime des Fleurs Freeworld Parfum\n",
      "YSl Rouge Volupté Shine Oil-In-Stick in Red In The Dark\n",
      "Tenoverten Summer Trio\n",
      "& Other Stories Marble Blush in Coquille Heat\n"
     ]
    }
   ],
   "source": [
    "may_list = soup_may.find('div', attrs = {'class': 's-post-text'})\n",
    "\n",
    "for list_item in may_list.find_all('h2'):    # return _all_ matches, <li>\n",
    "    print(list_item.text)"
   ]
  },
  {
   "cell_type": "code",
   "execution_count": 58,
   "metadata": {},
   "outputs": [],
   "source": [
    "l_may = [list_item.text for list_item in may_list.find_all('h2')]\n",
    "date_may = list(np.repeat(1527728461,len(l_may)))"
   ]
  },
  {
   "cell_type": "code",
   "execution_count": 23,
   "metadata": {},
   "outputs": [
    {
     "name": "stdout",
     "output_type": "stream",
     "text": [
      "MarulaOil Rare Oil Perfecting Hairspray\n",
      "Lemonhead Spacepaste\n",
      "Bastide Rose Olivier Provence Bar Soap\n",
      "Cloud Paint in Dawn\n",
      "Avène Tolérance Extrême Cleansing Lotion\n",
      "Dr. Jart Porecting Solution\n",
      "Flesh Thickstick Foundation in Toffee\n",
      "La Roche-Posay Lipikar Lotion\n"
     ]
    }
   ],
   "source": [
    "june_list = soup_june.find('div', attrs = {'class': 's-post-text'})\n",
    "\n",
    "for list_item in june_list.find_all('h2'):    # return _all_ matches, <li>\n",
    "    print(list_item.text)"
   ]
  },
  {
   "cell_type": "code",
   "execution_count": 53,
   "metadata": {},
   "outputs": [],
   "source": [
    "l_june = [list_item.text for list_item in june_list.find_all('h2')]\n",
    "date_june = list(np.repeat(1530320461,len(l_june)))"
   ]
  },
  {
   "cell_type": "code",
   "execution_count": 25,
   "metadata": {},
   "outputs": [
    {
     "name": "stdout",
     "output_type": "stream",
     "text": [
      "Frederic Malle Signature Travel Case\n",
      "Renée Rouleau Redness Care Serum\n",
      "Eminence Calm Skin Arnica Masque\n",
      "Bioderma Sensibio Deo Anti-perspirant\n",
      "Stratia Liquid Gold\n",
      "Kimiko Super Fine Eyebrow Pencil in Coffee\n",
      "Donni Silk Chiquita Scrunchie\n",
      "Paula's Choice Hyaluronic Acid Booster\n",
      "Dr. Sturm Glow Drops\n",
      "Snail Bee High Content Mask Pack\n"
     ]
    }
   ],
   "source": [
    "july_list = soup_july.find('div', attrs = {'class': 's-post-text'})\n",
    "\n",
    "for list_item in july_list.find_all('h2'):    # return _all_ matches, <li>\n",
    "    print(list_item.text)"
   ]
  },
  {
   "cell_type": "code",
   "execution_count": 54,
   "metadata": {},
   "outputs": [],
   "source": [
    "l_july = [list_item.text for list_item in july_list.find_all('h2')]\n",
    "date_july = list(np.repeat(1532998861,len(l_july)))"
   ]
  },
  {
   "cell_type": "code",
   "execution_count": 27,
   "metadata": {},
   "outputs": [
    {
     "name": "stdout",
     "output_type": "stream",
     "text": [
      "Environ Sun Care Sunscreen SPF 25\n",
      "Revlon Glow Gelee in Moon Glow\n",
      "Diptyque Figuier Scented Oval\n",
      "Dior Rouge Blush in Actrice\n",
      "Rohto Melano CC\n",
      "Bebé Zartrosé Lip Balm\n",
      "Paula's Choice 10% Azelaic Acid Booster\n",
      "Regime Des Fleurs Testers from the 'Personal/Space' + 'Pour Tous' collections\n",
      "Laura Mercier Secret Concealer\n",
      "Ritual Essential Vitamins\n"
     ]
    }
   ],
   "source": [
    "aug_list = soup_aug.find('div', attrs = {'class': 's-post-text'})\n",
    "\n",
    "for list_item in aug_list.find_all('h2'):    # return _all_ matches, <li>\n",
    "    print(list_item.text)"
   ]
  },
  {
   "cell_type": "code",
   "execution_count": 56,
   "metadata": {},
   "outputs": [],
   "source": [
    "l_aug = [list_item.text for list_item in aug_list.find_all('h2')]\n",
    "date_aug = list(np.repeat(1535677261,len(l_aug)))"
   ]
  },
  {
   "cell_type": "code",
   "execution_count": 29,
   "metadata": {},
   "outputs": [
    {
     "name": "stdout",
     "output_type": "stream",
     "text": [
      "Bumble and Bumble Surf Spray\n",
      "Megababe Rosy Pits Daily Deodorant\n",
      "RevitaLash\n",
      "Biologique Recherche Silk Plus Serum\n",
      "Agent Nateur Holi (oil) Youth Body Serum\n",
      "Make Marine Lip Repair\n",
      "Glossier Boy Brow in Black\n",
      "Charlotte Tilbury Cheek to Chic in Pillow Talk\n",
      "Nars Natural Radiant Longwear Foundation\n",
      "Dior Diorshow On Stage Liner in Matte Yellow\n",
      "The Ordinary Natural Moisturizing Factors + HA\n"
     ]
    }
   ],
   "source": [
    "sept_list = soup_sept.find('div', attrs = {'class': 's-post-text'})\n",
    "\n",
    "for list_item in sept_list.find_all('h2'):    # return _all_ matches, <li>\n",
    "    print(list_item.text)"
   ]
  },
  {
   "cell_type": "code",
   "execution_count": 55,
   "metadata": {},
   "outputs": [],
   "source": [
    "l_sept = [list_item.text for list_item in sept_list.find_all('h2')]\n",
    "date_sept = list(np.repeat(1538269261,len(l_sept)))"
   ]
  },
  {
   "cell_type": "code",
   "execution_count": null,
   "metadata": {},
   "outputs": [],
   "source": []
  },
  {
   "cell_type": "code",
   "execution_count": 31,
   "metadata": {},
   "outputs": [],
   "source": [
    "df = pd.DataFrame()"
   ]
  },
  {
   "cell_type": "code",
   "execution_count": 35,
   "metadata": {},
   "outputs": [],
   "source": [
    "big_list = l_jan + l_feb + l_march + l_april + l_may + l_june + l_july + l_aug + l_sept"
   ]
  },
  {
   "cell_type": "code",
   "execution_count": 40,
   "metadata": {},
   "outputs": [],
   "source": [
    "big_list = [i.lower() for i in big_list]"
   ]
  },
  {
   "cell_type": "code",
   "execution_count": 59,
   "metadata": {},
   "outputs": [],
   "source": [
    "date_list = date_jan + date_feb + date_march + date_april + date_may + date_june + date_july + date_aug + date_sept"
   ]
  },
  {
   "cell_type": "code",
   "execution_count": 60,
   "metadata": {},
   "outputs": [],
   "source": [
    "df['ITG Products'] = l_jan + l_feb + l_march + l_april + l_may + l_june + l_july + l_aug + l_sept\n",
    "df['Date'] = date_list"
   ]
  },
  {
   "cell_type": "code",
   "execution_count": 61,
   "metadata": {},
   "outputs": [
    {
     "data": {
      "text/html": [
       "<div>\n",
       "<style scoped>\n",
       "    .dataframe tbody tr th:only-of-type {\n",
       "        vertical-align: middle;\n",
       "    }\n",
       "\n",
       "    .dataframe tbody tr th {\n",
       "        vertical-align: top;\n",
       "    }\n",
       "\n",
       "    .dataframe thead th {\n",
       "        text-align: right;\n",
       "    }\n",
       "</style>\n",
       "<table border=\"1\" class=\"dataframe\">\n",
       "  <thead>\n",
       "    <tr style=\"text-align: right;\">\n",
       "      <th></th>\n",
       "      <th>ITG Products</th>\n",
       "      <th>Date</th>\n",
       "    </tr>\n",
       "  </thead>\n",
       "  <tbody>\n",
       "    <tr>\n",
       "      <th>0</th>\n",
       "      <td>Lord Jones All Natural Old Fashioned High CBD ...</td>\n",
       "      <td>1517360461</td>\n",
       "    </tr>\n",
       "    <tr>\n",
       "      <th>1</th>\n",
       "      <td>Augustinus Bader The Cream</td>\n",
       "      <td>1517360461</td>\n",
       "    </tr>\n",
       "    <tr>\n",
       "      <th>2</th>\n",
       "      <td>L'Oréal Voluminous Feline Mascara</td>\n",
       "      <td>1517360461</td>\n",
       "    </tr>\n",
       "    <tr>\n",
       "      <th>3</th>\n",
       "      <td>Ole Henriksen Banana Bright Eye Crème</td>\n",
       "      <td>1517360461</td>\n",
       "    </tr>\n",
       "    <tr>\n",
       "      <th>4</th>\n",
       "      <td>YSL Tatouage Couture Matte Stain in 7</td>\n",
       "      <td>1517360461</td>\n",
       "    </tr>\n",
       "  </tbody>\n",
       "</table>\n",
       "</div>"
      ],
      "text/plain": [
       "                                        ITG Products        Date\n",
       "0  Lord Jones All Natural Old Fashioned High CBD ...  1517360461\n",
       "1                         Augustinus Bader The Cream  1517360461\n",
       "2                  L'Oréal Voluminous Feline Mascara  1517360461\n",
       "3              Ole Henriksen Banana Bright Eye Crème  1517360461\n",
       "4              YSL Tatouage Couture Matte Stain in 7  1517360461"
      ]
     },
     "execution_count": 61,
     "metadata": {},
     "output_type": "execute_result"
    }
   ],
   "source": [
    "df.head()"
   ]
  },
  {
   "cell_type": "code",
   "execution_count": 62,
   "metadata": {},
   "outputs": [],
   "source": [
    "df.to_csv('./ITG_final.csv')"
   ]
  }
 ],
 "metadata": {
  "kernelspec": {
   "display_name": "Python 3",
   "language": "python",
   "name": "python3"
  },
  "language_info": {
   "codemirror_mode": {
    "name": "ipython",
    "version": 3
   },
   "file_extension": ".py",
   "mimetype": "text/x-python",
   "name": "python",
   "nbconvert_exporter": "python",
   "pygments_lexer": "ipython3",
   "version": "3.6.5"
  }
 },
 "nbformat": 4,
 "nbformat_minor": 2
}
